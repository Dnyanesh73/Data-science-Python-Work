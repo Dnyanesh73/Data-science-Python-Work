{
  "nbformat": 4,
  "nbformat_minor": 0,
  "metadata": {
    "colab": {
      "provenance": []
    },
    "kernelspec": {
      "name": "python3",
      "display_name": "Python 3"
    },
    "language_info": {
      "name": "python"
    }
  },
  "cells": [
    {
      "cell_type": "code",
      "execution_count": 2,
      "metadata": {
        "id": "6EXp-Kqt4o2O"
      },
      "outputs": [],
      "source": [
        "from scipy import stats\n",
        "import pandas as pd\n",
        "import numpy as np"
      ]
    },
    {
      "cell_type": "markdown",
      "source": [
        " problem statement :\n",
        "  \n",
        " assuming the sample is representative of the population, construct a 99% confidence interval for the mean number of characters printed before the print-head fails using the sample standard deviation. Explain the steps you take and the rationale behind using the t-distribution for this task."
      ],
      "metadata": {
        "id": "L9GtxQr9BJA2"
      }
    },
    {
      "cell_type": "markdown",
      "source": [
        "Build 99% Confidence Interval Using Sample Standard Deviation"
      ],
      "metadata": {
        "id": "nuirT-d58PIG"
      }
    },
    {
      "cell_type": "code",
      "source": [
        "# create array of data\n",
        "df=np.array([1.13,1.55,1.43,0.92,1.25,1.36,1.32,0.85,1.07,1.48,1.20,1.33,1.18,1.22,1.29])\n",
        "df"
      ],
      "metadata": {
        "colab": {
          "base_uri": "https://localhost:8080/"
        },
        "id": "jmuMwkev4ywa",
        "outputId": "119de4f2-a057-490a-8b5f-5ba27a470030"
      },
      "execution_count": 3,
      "outputs": [
        {
          "output_type": "execute_result",
          "data": {
            "text/plain": [
              "array([1.13, 1.55, 1.43, 0.92, 1.25, 1.36, 1.32, 0.85, 1.07, 1.48, 1.2 ,\n",
              "       1.33, 1.18, 1.22, 1.29])"
            ]
          },
          "metadata": {},
          "execution_count": 3
        }
      ]
    },
    {
      "cell_type": "code",
      "source": [
        "df"
      ],
      "metadata": {
        "colab": {
          "base_uri": "https://localhost:8080/"
        },
        "id": "nhFemh4l0OSk",
        "outputId": "7945c5e9-df5b-4f64-deda-32ac58f9bd4a"
      },
      "execution_count": 4,
      "outputs": [
        {
          "output_type": "execute_result",
          "data": {
            "text/plain": [
              "array([1.13, 1.55, 1.43, 0.92, 1.25, 1.36, 1.32, 0.85, 1.07, 1.48, 1.2 ,\n",
              "       1.33, 1.18, 1.22, 1.29])"
            ]
          },
          "metadata": {},
          "execution_count": 4
        }
      ]
    },
    {
      "cell_type": "code",
      "source": [
        "n = 15\n",
        "alpha = 0.01"
      ],
      "metadata": {
        "id": "Uhc8PWJY0ZWg"
      },
      "execution_count": 5,
      "outputs": []
    },
    {
      "cell_type": "code",
      "source": [
        "# first calculate mean"
      ],
      "metadata": {
        "id": "wG_fN6M30nzz"
      },
      "execution_count": null,
      "outputs": []
    },
    {
      "cell_type": "code",
      "source": [
        "mean = np.mean(df)\n",
        "mean"
      ],
      "metadata": {
        "colab": {
          "base_uri": "https://localhost:8080/"
        },
        "id": "5earUxz205vy",
        "outputId": "f741fa8d-02c0-4347-9869-4dc4905f1ab5"
      },
      "execution_count": 6,
      "outputs": [
        {
          "output_type": "execute_result",
          "data": {
            "text/plain": [
              "np.float64(1.2386666666666666)"
            ]
          },
          "metadata": {},
          "execution_count": 6
        }
      ]
    },
    {
      "cell_type": "code",
      "source": [
        "# second calculate sample standard deviation"
      ],
      "metadata": {
        "id": "KB2ZGJc81gsS"
      },
      "execution_count": null,
      "outputs": []
    },
    {
      "cell_type": "code",
      "source": [
        "standard_deviation =np.std(df)\n",
        "standard_deviation"
      ],
      "metadata": {
        "colab": {
          "base_uri": "https://localhost:8080/"
        },
        "id": "d7IURNiC1nU9",
        "outputId": "7a4c0c5f-2c05-4b40-d5bd-eb6becf88e34"
      },
      "execution_count": 7,
      "outputs": [
        {
          "output_type": "execute_result",
          "data": {
            "text/plain": [
              "np.float64(0.18661427836285438)"
            ]
          },
          "metadata": {},
          "execution_count": 7
        }
      ]
    },
    {
      "cell_type": "code",
      "source": [
        "t_critical = stats.t.ppf(1-(alpha/2),df = n-1)\n",
        "t_critical"
      ],
      "metadata": {
        "colab": {
          "base_uri": "https://localhost:8080/"
        },
        "id": "klr6G2503jsM",
        "outputId": "a133ce4d-c9d5-4999-c74a-48e58f1026df"
      },
      "execution_count": 8,
      "outputs": [
        {
          "output_type": "execute_result",
          "data": {
            "text/plain": [
              "np.float64(2.976842734370834)"
            ]
          },
          "metadata": {},
          "execution_count": 8
        }
      ]
    },
    {
      "cell_type": "code",
      "source": [
        "# Use 0.5 to calculate the square root of n for standard error\n",
        "upper_ci = mean + (t_critical) * (standard_deviation / (n)**0.5)"
      ],
      "metadata": {
        "id": "5H7WcZHe3roO"
      },
      "execution_count": 9,
      "outputs": []
    },
    {
      "cell_type": "code",
      "source": [
        "lower_ci = mean - (t_critical) * (standard_deviation / (n)**0.5)"
      ],
      "metadata": {
        "id": "T3dcPeFG3xlA"
      },
      "execution_count": 10,
      "outputs": []
    },
    {
      "cell_type": "code",
      "source": [
        "print(f\"LOWER TO UPPER  OF CONFIDENCE INTERVAL→ [{lower_ci} … {upper_ci}]\")"
      ],
      "metadata": {
        "colab": {
          "base_uri": "https://localhost:8080/"
        },
        "id": "i4PN1S9D6SzM",
        "outputId": "81ad601d-7faa-49a7-afa9-bed1d421cb18"
      },
      "execution_count": null,
      "outputs": [
        {
          "output_type": "stream",
          "name": "stdout",
          "text": [
            "LOWER TO UPPER  OF CONFIDENCE INTERVAL→ [1.095231668626123 … 1.3821016647072102]\n"
          ]
        }
      ]
    },
    {
      "cell_type": "markdown",
      "source": [
        "b. Build 99% Confidence Interval Using Known Population Standard Deviation\n",
        "If it were known that the population standard deviation is 0.2 million characters, construct a 99% confidence interval for the mean number of characters printed before failure.   "
      ],
      "metadata": {
        "id": "ddEq01SMYPMw"
      }
    },
    {
      "cell_type": "code",
      "source": [
        "\"\"\"\n",
        " 99% confidence interval for the mean durability using a known population standard deviation,\n",
        " we will use the Z-distribution, since the population standard deviation (σ) is known.\n",
        " \"\"\""
      ],
      "metadata": {
        "id": "tB1zniciYZYW"
      },
      "execution_count": null,
      "outputs": []
    },
    {
      "cell_type": "code",
      "source": [
        "#known population std\n",
        "σ= 0.2"
      ],
      "metadata": {
        "id": "76aTyCfcYmIu"
      },
      "execution_count": 11,
      "outputs": []
    },
    {
      "cell_type": "code",
      "source": [
        "df"
      ],
      "metadata": {
        "colab": {
          "base_uri": "https://localhost:8080/"
        },
        "id": "1ZiAMq_rZmgT",
        "outputId": "2458b59c-9af9-4bda-a4e1-f212fc18c530"
      },
      "execution_count": 13,
      "outputs": [
        {
          "output_type": "execute_result",
          "data": {
            "text/plain": [
              "array([1.13, 1.55, 1.43, 0.92, 1.25, 1.36, 1.32, 0.85, 1.07, 1.48, 1.2 ,\n",
              "       1.33, 1.18, 1.22, 1.29])"
            ]
          },
          "metadata": {},
          "execution_count": 13
        }
      ]
    },
    {
      "cell_type": "code",
      "source": [
        "mean"
      ],
      "metadata": {
        "colab": {
          "base_uri": "https://localhost:8080/"
        },
        "id": "r9gvs08ObafA",
        "outputId": "0520d9e0-73d5-472f-ddae-34bb96f12bc0"
      },
      "execution_count": 19,
      "outputs": [
        {
          "output_type": "execute_result",
          "data": {
            "text/plain": [
              "np.float64(1.2386666666666666)"
            ]
          },
          "metadata": {},
          "execution_count": 19
        }
      ]
    },
    {
      "cell_type": "code",
      "source": [
        "sample_mean = np.mean(df)"
      ],
      "metadata": {
        "id": "z5fxTTmAbda2"
      },
      "execution_count": 21,
      "outputs": []
    },
    {
      "cell_type": "code",
      "source": [
        "z_value = stats.norm.ppf(1 - 0.01 / 2)"
      ],
      "metadata": {
        "id": "em1uYZXXZ3of"
      },
      "execution_count": 23,
      "outputs": []
    },
    {
      "cell_type": "code",
      "source": [
        "margin_of_error = z_value * (σ / np.sqrt(n))"
      ],
      "metadata": {
        "id": "X49OcbN3aoBB"
      },
      "execution_count": 24,
      "outputs": []
    },
    {
      "cell_type": "code",
      "source": [
        "ci_lower = sample_mean - margin_of_error\n",
        "ci_upper = sample_mean + margin_of_error"
      ],
      "metadata": {
        "id": "IO_xXtl0a5BZ"
      },
      "execution_count": 26,
      "outputs": []
    },
    {
      "cell_type": "code",
      "source": [
        "print(f\"Sample Mean: {sample_mean:.3f}\")\n",
        "print(f\"Z Critical Value (99%): {z_value:.3f}\")\n",
        "print(f\"Margin of Error: {margin_of_error:.3f}\")\n",
        "print(f\"99% Confidence Interval: ({ci_lower:.3f}, {ci_upper:.3f})\")"
      ],
      "metadata": {
        "colab": {
          "base_uri": "https://localhost:8080/"
        },
        "id": "dfxlpyNTb-XZ",
        "outputId": "b060690a-bd85-4602-ee95-f84c3cd73a6d"
      },
      "execution_count": 27,
      "outputs": [
        {
          "output_type": "stream",
          "name": "stdout",
          "text": [
            "Sample Mean: 1.239\n",
            "Z Critical Value (99%): 2.576\n",
            "Margin of Error: 0.133\n",
            "99% Confidence Interval: (1.106, 1.372)\n"
          ]
        }
      ]
    }
  ]
}