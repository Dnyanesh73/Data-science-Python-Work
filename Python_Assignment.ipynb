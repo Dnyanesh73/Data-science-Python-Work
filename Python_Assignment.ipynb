{
  "nbformat": 4,
  "nbformat_minor": 0,
  "metadata": {
    "colab": {
      "provenance": []
    },
    "kernelspec": {
      "name": "python3",
      "display_name": "Python 3"
    },
    "language_info": {
      "name": "python"
    }
  },
  "cells": [
    {
      "cell_type": "markdown",
      "source": [
        "Exercise 1: Prime Numbers\n",
        "Write a Python program that checks whether a given number is prime or not. A prime number is a natural number greater than 1 that has no positive divisors other than 1 and itself."
      ],
      "metadata": {
        "id": "eWBrJcEBoVjZ"
      }
    },
    {
      "cell_type": "code",
      "source": [
        "# is_prime is a function which takes one argument number\n",
        "def is_prime(number):\n",
        "    if number <= 1:\n",
        "        return False\n",
        "    for i in range(2, int(number ** 0.5) + 1): #Loop from 2 up to the square root of the number (inclusive)\n",
        "        if number % i == 0: #If the number is divisible by any 'i', it's not prime\n",
        "            return False\n",
        "    return True #If no divisors found, it's a prime number\n",
        "#Try to get input from the user\n",
        "try:\n",
        "    # Ask the user to enter a number and convert it to an integer\n",
        "    number = int(input(\"Enter a number: \"))\n",
        "    if is_prime(number):\n",
        "        print(f\"{number} is a prime number.\")# If the function returns True, print that it's a prime number\n",
        "    else:\n",
        "        print(f\"{number} is not a prime number.\") # If the function returns False, print that it's not a prime number\n",
        "except ValueError:# If the user input is not a valid integer handle the error\n",
        "    print(\"Please enter a valid integer.\")"
      ],
      "metadata": {
        "colab": {
          "base_uri": "https://localhost:8080/"
        },
        "id": "7KNzf_0VoPkh",
        "outputId": "28b51af2-90c4-4ab0-d39b-fe29fbf612e0"
      },
      "execution_count": 1,
      "outputs": [
        {
          "output_type": "stream",
          "name": "stdout",
          "text": [
            "Enter a number: 4\n",
            "4 is not a prime number.\n"
          ]
        }
      ]
    },
    {
      "cell_type": "markdown",
      "source": [
        "Product of Random Numbers\n",
        "Develop a Python program that generates two random numbers and asks the user to enter the product of these numbers. The program should then check if the user's answer is correct and display an appropriate message.\n"
      ],
      "metadata": {
        "id": "JEbvyvY4qdGh"
      }
    },
    {
      "cell_type": "code",
      "source": [
        "import random  # Import the random module to generate random numbers\n",
        "\n",
        "# Generate two random integers between 1 and 10 (inclusive)\n",
        "num1 = random.randint(1, 10)\n",
        "num2 = random.randint(1, 10)\n",
        "\n",
        "# Ask the user to solve the multiplication question\n",
        "try:\n",
        "    # Prompt the user with the question and convert the input to an integer\n",
        "    user_answer = int(input(f\"What is {num1} × {num2}? \"))\n",
        "\n",
        "    #  Calculate the correct answer\n",
        "    correct_answer = num1 * num2\n",
        "\n",
        "    # Compare the user's answer with the correct answer\n",
        "    if user_answer == correct_answer:\n",
        "        # If correct, print a positive message\n",
        "        print(\"Correct! Well done.\")\n",
        "    else:\n",
        "        # If incorrect, show the correct answer\n",
        "        print(f\"Incorrect. The correct answer is {correct_answer}.\")\n",
        "\n",
        "# Step 5: Handle invalid input (e.g., if the user enters text instead of a number)\n",
        "except ValueError:\n",
        "    print(\"Please enter a valid number.\")\n"
      ],
      "metadata": {
        "colab": {
          "base_uri": "https://localhost:8080/"
        },
        "id": "GHSYZWmWqDrA",
        "outputId": "3ceca95c-e7ca-4e70-f7ba-8bd21b2135ce"
      },
      "execution_count": 3,
      "outputs": [
        {
          "output_type": "stream",
          "name": "stdout",
          "text": [
            "What is 9 × 9? 81\n",
            "Correct! Well done.\n"
          ]
        }
      ]
    },
    {
      "cell_type": "markdown",
      "source": [
        ": Squares of Even/Odd Numbers\n",
        "Create a Python script that prints the squares of all even or odd numbers within the range of 100 to 200. Choose either even or odd numbers and document your choice in the code.\n"
      ],
      "metadata": {
        "id": "5QF9ftiisASg"
      }
    },
    {
      "cell_type": "code",
      "source": [
        "# Loop through numbers from 100 to 200\n",
        "for number in range(100, 201):\n",
        "\n",
        "    # Check if the current number is even\n",
        "    if number % 2 == 0:\n",
        "        # Calculate the square of the even number\n",
        "        square = number ** 2\n",
        "\n",
        "        # Print the result in a readable format\n",
        "        print(f\"{number}² = {square}\")\n",
        "\n",
        "\n",
        "\n"
      ],
      "metadata": {
        "colab": {
          "base_uri": "https://localhost:8080/"
        },
        "id": "8RPLufi2sCWz",
        "outputId": "1ceb3415-d175-4fd1-8382-e113448c4fd3"
      },
      "execution_count": 4,
      "outputs": [
        {
          "output_type": "stream",
          "name": "stdout",
          "text": [
            "100² = 10000\n",
            "102² = 10404\n",
            "104² = 10816\n",
            "106² = 11236\n",
            "108² = 11664\n",
            "110² = 12100\n",
            "112² = 12544\n",
            "114² = 12996\n",
            "116² = 13456\n",
            "118² = 13924\n",
            "120² = 14400\n",
            "122² = 14884\n",
            "124² = 15376\n",
            "126² = 15876\n",
            "128² = 16384\n",
            "130² = 16900\n",
            "132² = 17424\n",
            "134² = 17956\n",
            "136² = 18496\n",
            "138² = 19044\n",
            "140² = 19600\n",
            "142² = 20164\n",
            "144² = 20736\n",
            "146² = 21316\n",
            "148² = 21904\n",
            "150² = 22500\n",
            "152² = 23104\n",
            "154² = 23716\n",
            "156² = 24336\n",
            "158² = 24964\n",
            "160² = 25600\n",
            "162² = 26244\n",
            "164² = 26896\n",
            "166² = 27556\n",
            "168² = 28224\n",
            "170² = 28900\n",
            "172² = 29584\n",
            "174² = 30276\n",
            "176² = 30976\n",
            "178² = 31684\n",
            "180² = 32400\n",
            "182² = 33124\n",
            "184² = 33856\n",
            "186² = 34596\n",
            "188² = 35344\n",
            "190² = 36100\n",
            "192² = 36864\n",
            "194² = 37636\n",
            "196² = 38416\n",
            "198² = 39204\n",
            "200² = 40000\n"
          ]
        }
      ]
    },
    {
      "cell_type": "code",
      "source": [
        "# Loop through numbers from 100 to 200\n",
        "for number in range(100, 201):\n",
        "\n",
        "    # Check if the current number is odd\n",
        "    # Odd numbers have a remainder of 1 when divided by 2\n",
        "    if number % 2 != 0:\n",
        "\n",
        "        # Calculate the square of the odd number\n",
        "        square = number ** 2\n",
        "\n",
        "        # Print the result in a formatted way\n",
        "        print(f\"{number}² = {square}\")"
      ],
      "metadata": {
        "colab": {
          "base_uri": "https://localhost:8080/"
        },
        "id": "4paIf4c3vxGq",
        "outputId": "536f562b-331a-46ca-a9a6-88ed0e790232"
      },
      "execution_count": 5,
      "outputs": [
        {
          "output_type": "stream",
          "name": "stdout",
          "text": [
            "101² = 10201\n",
            "103² = 10609\n",
            "105² = 11025\n",
            "107² = 11449\n",
            "109² = 11881\n",
            "111² = 12321\n",
            "113² = 12769\n",
            "115² = 13225\n",
            "117² = 13689\n",
            "119² = 14161\n",
            "121² = 14641\n",
            "123² = 15129\n",
            "125² = 15625\n",
            "127² = 16129\n",
            "129² = 16641\n",
            "131² = 17161\n",
            "133² = 17689\n",
            "135² = 18225\n",
            "137² = 18769\n",
            "139² = 19321\n",
            "141² = 19881\n",
            "143² = 20449\n",
            "145² = 21025\n",
            "147² = 21609\n",
            "149² = 22201\n",
            "151² = 22801\n",
            "153² = 23409\n",
            "155² = 24025\n",
            "157² = 24649\n",
            "159² = 25281\n",
            "161² = 25921\n",
            "163² = 26569\n",
            "165² = 27225\n",
            "167² = 27889\n",
            "169² = 28561\n",
            "171² = 29241\n",
            "173² = 29929\n",
            "175² = 30625\n",
            "177² = 31329\n",
            "179² = 32041\n",
            "181² = 32761\n",
            "183² = 33489\n",
            "185² = 34225\n",
            "187² = 34969\n",
            "189² = 35721\n",
            "191² = 36481\n",
            "193² = 37249\n",
            "195² = 38025\n",
            "197² = 38809\n",
            "199² = 39601\n"
          ]
        }
      ]
    },
    {
      "cell_type": "markdown",
      "source": [
        "write a program to count the number of words in a given text.\n",
        "example:\n",
        "input_text = \"This is a sample text. This text will be used to demonstrate the word counter.\"\n",
        "Expected output:\n",
        "'This': 2\n",
        "'is': 1\n",
        "'a': 1\n",
        "'sample': 1\n",
        "'text.': 1\n"
      ],
      "metadata": {
        "id": "ZK3KppbaxJgZ"
      }
    },
    {
      "cell_type": "code",
      "source": [
        "# Input text to analyze\n",
        "input_text = \"This is a sample text. This text will be used to demonstrate the word counter.\"\n",
        "\n",
        "#  Split the text into individual words using spaces\n",
        "words = input_text.split()\n",
        "#  Create an empty dictionary to store word counts\n",
        "word_count = {}\n",
        "# Loop through each word in the list\n",
        "for word in words:\n",
        "    # Check if the word is already in the dictionary\n",
        "    if word in word_count:\n",
        "        # If it is, increment its count by 1\n",
        "        word_count[word] += 1\n",
        "    else:\n",
        "        # If not, add the word to the dictionary with count 1\n",
        "        word_count[word] = 1\n",
        "\n",
        "#  Print each word and its frequency\n",
        "for word, count in word_count.items():\n",
        "    print(f\"'{word}': {count}\")"
      ],
      "metadata": {
        "colab": {
          "base_uri": "https://localhost:8080/"
        },
        "id": "07g7CDUUxSxp",
        "outputId": "1d647556-1852-449d-d5ca-6fb4d689f385"
      },
      "execution_count": 1,
      "outputs": [
        {
          "output_type": "stream",
          "name": "stdout",
          "text": [
            "'This': 2\n",
            "'is': 1\n",
            "'a': 1\n",
            "'sample': 1\n",
            "'text.': 1\n",
            "'text': 1\n",
            "'will': 1\n",
            "'be': 1\n",
            "'used': 1\n",
            "'to': 1\n",
            "'demonstrate': 1\n",
            "'the': 1\n",
            "'word': 1\n",
            "'counter.': 1\n"
          ]
        }
      ]
    },
    {
      "cell_type": "markdown",
      "source": [
        "Write a Python function called is_palindrome that takes a string as input and returns True if the string is a palindrome, and False otherwise. A palindrome is a word, phrase, number, or other sequence of characters that reads the same forward and backward, ignoring spaces, punctuation, and capitalization.\n",
        "Example:\n",
        "Input: \"racecar\"\n",
        "Expected Output: True\n"
      ],
      "metadata": {
        "id": "vG64MTDdYWUC"
      }
    },
    {
      "cell_type": "code",
      "source": [
        "import string  # To handle punctuation\n",
        "\n",
        "def is_palindrome(input_string):\n",
        "    # Convert the string to lowercase (to ignore case)\n",
        "    input_string = input_string.lower()\n",
        "    # Remove punctuation and spaces\n",
        "    cleaned_string = ''\n",
        "    for char in input_string:\n",
        "        if char.isalnum():  # Keep only letters and digits\n",
        "            cleaned_string += char\n",
        "\n",
        "    # Check if cleaned string is the same when reversed\n",
        "    return cleaned_string == cleaned_string[::-1]\n",
        "print(is_palindrome(\"racecar\"))\n",
        "\n",
        "\n",
        ""
      ],
      "metadata": {
        "colab": {
          "base_uri": "https://localhost:8080/"
        },
        "id": "9PdaXbHsVpUZ",
        "outputId": "822357f7-5c37-4cbe-a00d-627536f356dd"
      },
      "execution_count": 51,
      "outputs": [
        {
          "output_type": "stream",
          "name": "stdout",
          "text": [
            "True\n"
          ]
        }
      ]
    }
  ]
}