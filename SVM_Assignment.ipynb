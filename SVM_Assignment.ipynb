{
  "cells": [
    {
      "cell_type": "code",
      "execution_count": 1,
      "id": "943aab2e",
      "metadata": {
        "id": "943aab2e"
      },
      "outputs": [],
      "source": [
        "import numpy as np\n",
        "import pandas as pd\n",
        "import matplotlib.pyplot as plt\n",
        "import seaborn as sns\n",
        "from sklearn.model_selection import train_test_split, GridSearchCV\n",
        "from sklearn.preprocessing import StandardScaler\n",
        "from sklearn.metrics import accuracy_score, classification_report\n",
        "from sklearn.svm import SVC\n",
        "import warnings\n",
        "warnings.filterwarnings('ignore')"
      ]
    },
    {
      "cell_type": "code",
      "execution_count": 2,
      "id": "f3b2cf6e",
      "metadata": {
        "id": "f3b2cf6e"
      },
      "outputs": [],
      "source": [
        "data = pd.read_csv(r\"/content/mushroom.csv\", index_col = 0)"
      ]
    },
    {
      "cell_type": "code",
      "execution_count": 3,
      "id": "298e558f",
      "metadata": {
        "colab": {
          "base_uri": "https://localhost:8080/",
          "height": 492
        },
        "id": "298e558f",
        "outputId": "40c8b6e0-357f-4aef-9a1f-72f9a424050c"
      },
      "outputs": [
        {
          "output_type": "execute_result",
          "data": {
            "text/plain": [
              "           cap_shape cap_surface cap_color bruises     odor gill_attachment  \\\n",
              "Unnamed: 0                                                                    \n",
              "1167          sunken       scaly     white      no    anise      descending   \n",
              "1037          sunken     fibrous       red      no    anise         notched   \n",
              "309             flat     grooves    purple     yes     foul      descending   \n",
              "282             bell       scaly      pink     yes    fishy         notched   \n",
              "820             flat      smooth    yellow     yes    musty            free   \n",
              "...              ...         ...       ...     ...      ...             ...   \n",
              "863           sunken       scaly     brown     yes     foul        attached   \n",
              "1160          sunken       scaly    purple     yes    musty        attached   \n",
              "265           convex     grooves     green     yes    fishy         notched   \n",
              "411             bell      smooth     white      no  pungent            free   \n",
              "1073          convex       scaly    yellow     yes  pungent      descending   \n",
              "\n",
              "           gill_spacing gill_size gill_color stalk_shape  ...  veil_type  \\\n",
              "Unnamed: 0                                                ...              \n",
              "1167            distant     broad       pink    tapering  ...    partial   \n",
              "1037            crowded    narrow  chocolate   enlarging  ...  universal   \n",
              "309             crowded     broad     purple    tapering  ...  universal   \n",
              "282               close     broad     orange   enlarging  ...    partial   \n",
              "820             crowded    narrow     orange   enlarging  ...  universal   \n",
              "...                 ...       ...        ...         ...  ...        ...   \n",
              "863             crowded    narrow  chocolate    tapering  ...    partial   \n",
              "1160            distant    narrow        red    tapering  ...    partial   \n",
              "265               close    narrow       pink    tapering  ...    partial   \n",
              "411               close    narrow     orange   enlarging  ...  universal   \n",
              "1073              close    narrow     purple   enlarging  ...    partial   \n",
              "\n",
              "           veil_color ring_number   ring_type spore_print_color population  \\\n",
              "Unnamed: 0                                                                   \n",
              "1167            brown         two   sheathing         chocolate  clustered   \n",
              "1037            brown         two   sheathing             brown   numerous   \n",
              "309            yellow         two   sheathing            purple   abundant   \n",
              "282            yellow         two    cobwebby             green  clustered   \n",
              "820             white        none        none            yellow  clustered   \n",
              "...               ...         ...         ...               ...        ...   \n",
              "863            orange         one     flaring            purple   abundant   \n",
              "1160            white         one        zone            yellow   numerous   \n",
              "265             brown         two  evanescent            yellow   abundant   \n",
              "411            yellow         one    cobwebby             brown   solitary   \n",
              "1073            white         two       large             white   numerous   \n",
              "\n",
              "            habitat      class stalk_height cap_diameter  \n",
              "Unnamed: 0                                                \n",
              "1167          waste  poisonous    14.276173     5.054983  \n",
              "1037          waste     edible     3.952715    19.068319  \n",
              "309           waste  poisonous     9.054265     7.205884  \n",
              "282         grasses  poisonous     5.226499    20.932692  \n",
              "820           urban  poisonous    14.037532    12.545245  \n",
              "...             ...        ...          ...          ...  \n",
              "863          leaves  poisonous     5.877891    17.464145  \n",
              "1160          waste  poisonous     6.500840    13.501957  \n",
              "265           woods  poisonous    13.558064    11.270020  \n",
              "411           woods  poisonous    11.092703     8.423199  \n",
              "1073          urban  poisonous    13.066414    21.056642  \n",
              "\n",
              "[2000 rows x 25 columns]"
            ],
            "text/html": [
              "\n",
              "  <div id=\"df-a0ec571d-8fbc-4d9b-9aaf-4dc65026c056\" class=\"colab-df-container\">\n",
              "    <div>\n",
              "<style scoped>\n",
              "    .dataframe tbody tr th:only-of-type {\n",
              "        vertical-align: middle;\n",
              "    }\n",
              "\n",
              "    .dataframe tbody tr th {\n",
              "        vertical-align: top;\n",
              "    }\n",
              "\n",
              "    .dataframe thead th {\n",
              "        text-align: right;\n",
              "    }\n",
              "</style>\n",
              "<table border=\"1\" class=\"dataframe\">\n",
              "  <thead>\n",
              "    <tr style=\"text-align: right;\">\n",
              "      <th></th>\n",
              "      <th>cap_shape</th>\n",
              "      <th>cap_surface</th>\n",
              "      <th>cap_color</th>\n",
              "      <th>bruises</th>\n",
              "      <th>odor</th>\n",
              "      <th>gill_attachment</th>\n",
              "      <th>gill_spacing</th>\n",
              "      <th>gill_size</th>\n",
              "      <th>gill_color</th>\n",
              "      <th>stalk_shape</th>\n",
              "      <th>...</th>\n",
              "      <th>veil_type</th>\n",
              "      <th>veil_color</th>\n",
              "      <th>ring_number</th>\n",
              "      <th>ring_type</th>\n",
              "      <th>spore_print_color</th>\n",
              "      <th>population</th>\n",
              "      <th>habitat</th>\n",
              "      <th>class</th>\n",
              "      <th>stalk_height</th>\n",
              "      <th>cap_diameter</th>\n",
              "    </tr>\n",
              "    <tr>\n",
              "      <th>Unnamed: 0</th>\n",
              "      <th></th>\n",
              "      <th></th>\n",
              "      <th></th>\n",
              "      <th></th>\n",
              "      <th></th>\n",
              "      <th></th>\n",
              "      <th></th>\n",
              "      <th></th>\n",
              "      <th></th>\n",
              "      <th></th>\n",
              "      <th></th>\n",
              "      <th></th>\n",
              "      <th></th>\n",
              "      <th></th>\n",
              "      <th></th>\n",
              "      <th></th>\n",
              "      <th></th>\n",
              "      <th></th>\n",
              "      <th></th>\n",
              "      <th></th>\n",
              "      <th></th>\n",
              "    </tr>\n",
              "  </thead>\n",
              "  <tbody>\n",
              "    <tr>\n",
              "      <th>1167</th>\n",
              "      <td>sunken</td>\n",
              "      <td>scaly</td>\n",
              "      <td>white</td>\n",
              "      <td>no</td>\n",
              "      <td>anise</td>\n",
              "      <td>descending</td>\n",
              "      <td>distant</td>\n",
              "      <td>broad</td>\n",
              "      <td>pink</td>\n",
              "      <td>tapering</td>\n",
              "      <td>...</td>\n",
              "      <td>partial</td>\n",
              "      <td>brown</td>\n",
              "      <td>two</td>\n",
              "      <td>sheathing</td>\n",
              "      <td>chocolate</td>\n",
              "      <td>clustered</td>\n",
              "      <td>waste</td>\n",
              "      <td>poisonous</td>\n",
              "      <td>14.276173</td>\n",
              "      <td>5.054983</td>\n",
              "    </tr>\n",
              "    <tr>\n",
              "      <th>1037</th>\n",
              "      <td>sunken</td>\n",
              "      <td>fibrous</td>\n",
              "      <td>red</td>\n",
              "      <td>no</td>\n",
              "      <td>anise</td>\n",
              "      <td>notched</td>\n",
              "      <td>crowded</td>\n",
              "      <td>narrow</td>\n",
              "      <td>chocolate</td>\n",
              "      <td>enlarging</td>\n",
              "      <td>...</td>\n",
              "      <td>universal</td>\n",
              "      <td>brown</td>\n",
              "      <td>two</td>\n",
              "      <td>sheathing</td>\n",
              "      <td>brown</td>\n",
              "      <td>numerous</td>\n",
              "      <td>waste</td>\n",
              "      <td>edible</td>\n",
              "      <td>3.952715</td>\n",
              "      <td>19.068319</td>\n",
              "    </tr>\n",
              "    <tr>\n",
              "      <th>309</th>\n",
              "      <td>flat</td>\n",
              "      <td>grooves</td>\n",
              "      <td>purple</td>\n",
              "      <td>yes</td>\n",
              "      <td>foul</td>\n",
              "      <td>descending</td>\n",
              "      <td>crowded</td>\n",
              "      <td>broad</td>\n",
              "      <td>purple</td>\n",
              "      <td>tapering</td>\n",
              "      <td>...</td>\n",
              "      <td>universal</td>\n",
              "      <td>yellow</td>\n",
              "      <td>two</td>\n",
              "      <td>sheathing</td>\n",
              "      <td>purple</td>\n",
              "      <td>abundant</td>\n",
              "      <td>waste</td>\n",
              "      <td>poisonous</td>\n",
              "      <td>9.054265</td>\n",
              "      <td>7.205884</td>\n",
              "    </tr>\n",
              "    <tr>\n",
              "      <th>282</th>\n",
              "      <td>bell</td>\n",
              "      <td>scaly</td>\n",
              "      <td>pink</td>\n",
              "      <td>yes</td>\n",
              "      <td>fishy</td>\n",
              "      <td>notched</td>\n",
              "      <td>close</td>\n",
              "      <td>broad</td>\n",
              "      <td>orange</td>\n",
              "      <td>enlarging</td>\n",
              "      <td>...</td>\n",
              "      <td>partial</td>\n",
              "      <td>yellow</td>\n",
              "      <td>two</td>\n",
              "      <td>cobwebby</td>\n",
              "      <td>green</td>\n",
              "      <td>clustered</td>\n",
              "      <td>grasses</td>\n",
              "      <td>poisonous</td>\n",
              "      <td>5.226499</td>\n",
              "      <td>20.932692</td>\n",
              "    </tr>\n",
              "    <tr>\n",
              "      <th>820</th>\n",
              "      <td>flat</td>\n",
              "      <td>smooth</td>\n",
              "      <td>yellow</td>\n",
              "      <td>yes</td>\n",
              "      <td>musty</td>\n",
              "      <td>free</td>\n",
              "      <td>crowded</td>\n",
              "      <td>narrow</td>\n",
              "      <td>orange</td>\n",
              "      <td>enlarging</td>\n",
              "      <td>...</td>\n",
              "      <td>universal</td>\n",
              "      <td>white</td>\n",
              "      <td>none</td>\n",
              "      <td>none</td>\n",
              "      <td>yellow</td>\n",
              "      <td>clustered</td>\n",
              "      <td>urban</td>\n",
              "      <td>poisonous</td>\n",
              "      <td>14.037532</td>\n",
              "      <td>12.545245</td>\n",
              "    </tr>\n",
              "    <tr>\n",
              "      <th>...</th>\n",
              "      <td>...</td>\n",
              "      <td>...</td>\n",
              "      <td>...</td>\n",
              "      <td>...</td>\n",
              "      <td>...</td>\n",
              "      <td>...</td>\n",
              "      <td>...</td>\n",
              "      <td>...</td>\n",
              "      <td>...</td>\n",
              "      <td>...</td>\n",
              "      <td>...</td>\n",
              "      <td>...</td>\n",
              "      <td>...</td>\n",
              "      <td>...</td>\n",
              "      <td>...</td>\n",
              "      <td>...</td>\n",
              "      <td>...</td>\n",
              "      <td>...</td>\n",
              "      <td>...</td>\n",
              "      <td>...</td>\n",
              "      <td>...</td>\n",
              "    </tr>\n",
              "    <tr>\n",
              "      <th>863</th>\n",
              "      <td>sunken</td>\n",
              "      <td>scaly</td>\n",
              "      <td>brown</td>\n",
              "      <td>yes</td>\n",
              "      <td>foul</td>\n",
              "      <td>attached</td>\n",
              "      <td>crowded</td>\n",
              "      <td>narrow</td>\n",
              "      <td>chocolate</td>\n",
              "      <td>tapering</td>\n",
              "      <td>...</td>\n",
              "      <td>partial</td>\n",
              "      <td>orange</td>\n",
              "      <td>one</td>\n",
              "      <td>flaring</td>\n",
              "      <td>purple</td>\n",
              "      <td>abundant</td>\n",
              "      <td>leaves</td>\n",
              "      <td>poisonous</td>\n",
              "      <td>5.877891</td>\n",
              "      <td>17.464145</td>\n",
              "    </tr>\n",
              "    <tr>\n",
              "      <th>1160</th>\n",
              "      <td>sunken</td>\n",
              "      <td>scaly</td>\n",
              "      <td>purple</td>\n",
              "      <td>yes</td>\n",
              "      <td>musty</td>\n",
              "      <td>attached</td>\n",
              "      <td>distant</td>\n",
              "      <td>narrow</td>\n",
              "      <td>red</td>\n",
              "      <td>tapering</td>\n",
              "      <td>...</td>\n",
              "      <td>partial</td>\n",
              "      <td>white</td>\n",
              "      <td>one</td>\n",
              "      <td>zone</td>\n",
              "      <td>yellow</td>\n",
              "      <td>numerous</td>\n",
              "      <td>waste</td>\n",
              "      <td>poisonous</td>\n",
              "      <td>6.500840</td>\n",
              "      <td>13.501957</td>\n",
              "    </tr>\n",
              "    <tr>\n",
              "      <th>265</th>\n",
              "      <td>convex</td>\n",
              "      <td>grooves</td>\n",
              "      <td>green</td>\n",
              "      <td>yes</td>\n",
              "      <td>fishy</td>\n",
              "      <td>notched</td>\n",
              "      <td>close</td>\n",
              "      <td>narrow</td>\n",
              "      <td>pink</td>\n",
              "      <td>tapering</td>\n",
              "      <td>...</td>\n",
              "      <td>partial</td>\n",
              "      <td>brown</td>\n",
              "      <td>two</td>\n",
              "      <td>evanescent</td>\n",
              "      <td>yellow</td>\n",
              "      <td>abundant</td>\n",
              "      <td>woods</td>\n",
              "      <td>poisonous</td>\n",
              "      <td>13.558064</td>\n",
              "      <td>11.270020</td>\n",
              "    </tr>\n",
              "    <tr>\n",
              "      <th>411</th>\n",
              "      <td>bell</td>\n",
              "      <td>smooth</td>\n",
              "      <td>white</td>\n",
              "      <td>no</td>\n",
              "      <td>pungent</td>\n",
              "      <td>free</td>\n",
              "      <td>close</td>\n",
              "      <td>narrow</td>\n",
              "      <td>orange</td>\n",
              "      <td>enlarging</td>\n",
              "      <td>...</td>\n",
              "      <td>universal</td>\n",
              "      <td>yellow</td>\n",
              "      <td>one</td>\n",
              "      <td>cobwebby</td>\n",
              "      <td>brown</td>\n",
              "      <td>solitary</td>\n",
              "      <td>woods</td>\n",
              "      <td>poisonous</td>\n",
              "      <td>11.092703</td>\n",
              "      <td>8.423199</td>\n",
              "    </tr>\n",
              "    <tr>\n",
              "      <th>1073</th>\n",
              "      <td>convex</td>\n",
              "      <td>scaly</td>\n",
              "      <td>yellow</td>\n",
              "      <td>yes</td>\n",
              "      <td>pungent</td>\n",
              "      <td>descending</td>\n",
              "      <td>close</td>\n",
              "      <td>narrow</td>\n",
              "      <td>purple</td>\n",
              "      <td>enlarging</td>\n",
              "      <td>...</td>\n",
              "      <td>partial</td>\n",
              "      <td>white</td>\n",
              "      <td>two</td>\n",
              "      <td>large</td>\n",
              "      <td>white</td>\n",
              "      <td>numerous</td>\n",
              "      <td>urban</td>\n",
              "      <td>poisonous</td>\n",
              "      <td>13.066414</td>\n",
              "      <td>21.056642</td>\n",
              "    </tr>\n",
              "  </tbody>\n",
              "</table>\n",
              "<p>2000 rows × 25 columns</p>\n",
              "</div>\n",
              "    <div class=\"colab-df-buttons\">\n",
              "\n",
              "  <div class=\"colab-df-container\">\n",
              "    <button class=\"colab-df-convert\" onclick=\"convertToInteractive('df-a0ec571d-8fbc-4d9b-9aaf-4dc65026c056')\"\n",
              "            title=\"Convert this dataframe to an interactive table.\"\n",
              "            style=\"display:none;\">\n",
              "\n",
              "  <svg xmlns=\"http://www.w3.org/2000/svg\" height=\"24px\" viewBox=\"0 -960 960 960\">\n",
              "    <path d=\"M120-120v-720h720v720H120Zm60-500h600v-160H180v160Zm220 220h160v-160H400v160Zm0 220h160v-160H400v160ZM180-400h160v-160H180v160Zm440 0h160v-160H620v160ZM180-180h160v-160H180v160Zm440 0h160v-160H620v160Z\"/>\n",
              "  </svg>\n",
              "    </button>\n",
              "\n",
              "  <style>\n",
              "    .colab-df-container {\n",
              "      display:flex;\n",
              "      gap: 12px;\n",
              "    }\n",
              "\n",
              "    .colab-df-convert {\n",
              "      background-color: #E8F0FE;\n",
              "      border: none;\n",
              "      border-radius: 50%;\n",
              "      cursor: pointer;\n",
              "      display: none;\n",
              "      fill: #1967D2;\n",
              "      height: 32px;\n",
              "      padding: 0 0 0 0;\n",
              "      width: 32px;\n",
              "    }\n",
              "\n",
              "    .colab-df-convert:hover {\n",
              "      background-color: #E2EBFA;\n",
              "      box-shadow: 0px 1px 2px rgba(60, 64, 67, 0.3), 0px 1px 3px 1px rgba(60, 64, 67, 0.15);\n",
              "      fill: #174EA6;\n",
              "    }\n",
              "\n",
              "    .colab-df-buttons div {\n",
              "      margin-bottom: 4px;\n",
              "    }\n",
              "\n",
              "    [theme=dark] .colab-df-convert {\n",
              "      background-color: #3B4455;\n",
              "      fill: #D2E3FC;\n",
              "    }\n",
              "\n",
              "    [theme=dark] .colab-df-convert:hover {\n",
              "      background-color: #434B5C;\n",
              "      box-shadow: 0px 1px 3px 1px rgba(0, 0, 0, 0.15);\n",
              "      filter: drop-shadow(0px 1px 2px rgba(0, 0, 0, 0.3));\n",
              "      fill: #FFFFFF;\n",
              "    }\n",
              "  </style>\n",
              "\n",
              "    <script>\n",
              "      const buttonEl =\n",
              "        document.querySelector('#df-a0ec571d-8fbc-4d9b-9aaf-4dc65026c056 button.colab-df-convert');\n",
              "      buttonEl.style.display =\n",
              "        google.colab.kernel.accessAllowed ? 'block' : 'none';\n",
              "\n",
              "      async function convertToInteractive(key) {\n",
              "        const element = document.querySelector('#df-a0ec571d-8fbc-4d9b-9aaf-4dc65026c056');\n",
              "        const dataTable =\n",
              "          await google.colab.kernel.invokeFunction('convertToInteractive',\n",
              "                                                    [key], {});\n",
              "        if (!dataTable) return;\n",
              "\n",
              "        const docLinkHtml = 'Like what you see? Visit the ' +\n",
              "          '<a target=\"_blank\" href=https://colab.research.google.com/notebooks/data_table.ipynb>data table notebook</a>'\n",
              "          + ' to learn more about interactive tables.';\n",
              "        element.innerHTML = '';\n",
              "        dataTable['output_type'] = 'display_data';\n",
              "        await google.colab.output.renderOutput(dataTable, element);\n",
              "        const docLink = document.createElement('div');\n",
              "        docLink.innerHTML = docLinkHtml;\n",
              "        element.appendChild(docLink);\n",
              "      }\n",
              "    </script>\n",
              "  </div>\n",
              "\n",
              "\n",
              "    <div id=\"df-c072bcf1-bb96-4419-91fa-32d4b753528f\">\n",
              "      <button class=\"colab-df-quickchart\" onclick=\"quickchart('df-c072bcf1-bb96-4419-91fa-32d4b753528f')\"\n",
              "                title=\"Suggest charts\"\n",
              "                style=\"display:none;\">\n",
              "\n",
              "<svg xmlns=\"http://www.w3.org/2000/svg\" height=\"24px\"viewBox=\"0 0 24 24\"\n",
              "     width=\"24px\">\n",
              "    <g>\n",
              "        <path d=\"M19 3H5c-1.1 0-2 .9-2 2v14c0 1.1.9 2 2 2h14c1.1 0 2-.9 2-2V5c0-1.1-.9-2-2-2zM9 17H7v-7h2v7zm4 0h-2V7h2v10zm4 0h-2v-4h2v4z\"/>\n",
              "    </g>\n",
              "</svg>\n",
              "      </button>\n",
              "\n",
              "<style>\n",
              "  .colab-df-quickchart {\n",
              "      --bg-color: #E8F0FE;\n",
              "      --fill-color: #1967D2;\n",
              "      --hover-bg-color: #E2EBFA;\n",
              "      --hover-fill-color: #174EA6;\n",
              "      --disabled-fill-color: #AAA;\n",
              "      --disabled-bg-color: #DDD;\n",
              "  }\n",
              "\n",
              "  [theme=dark] .colab-df-quickchart {\n",
              "      --bg-color: #3B4455;\n",
              "      --fill-color: #D2E3FC;\n",
              "      --hover-bg-color: #434B5C;\n",
              "      --hover-fill-color: #FFFFFF;\n",
              "      --disabled-bg-color: #3B4455;\n",
              "      --disabled-fill-color: #666;\n",
              "  }\n",
              "\n",
              "  .colab-df-quickchart {\n",
              "    background-color: var(--bg-color);\n",
              "    border: none;\n",
              "    border-radius: 50%;\n",
              "    cursor: pointer;\n",
              "    display: none;\n",
              "    fill: var(--fill-color);\n",
              "    height: 32px;\n",
              "    padding: 0;\n",
              "    width: 32px;\n",
              "  }\n",
              "\n",
              "  .colab-df-quickchart:hover {\n",
              "    background-color: var(--hover-bg-color);\n",
              "    box-shadow: 0 1px 2px rgba(60, 64, 67, 0.3), 0 1px 3px 1px rgba(60, 64, 67, 0.15);\n",
              "    fill: var(--button-hover-fill-color);\n",
              "  }\n",
              "\n",
              "  .colab-df-quickchart-complete:disabled,\n",
              "  .colab-df-quickchart-complete:disabled:hover {\n",
              "    background-color: var(--disabled-bg-color);\n",
              "    fill: var(--disabled-fill-color);\n",
              "    box-shadow: none;\n",
              "  }\n",
              "\n",
              "  .colab-df-spinner {\n",
              "    border: 2px solid var(--fill-color);\n",
              "    border-color: transparent;\n",
              "    border-bottom-color: var(--fill-color);\n",
              "    animation:\n",
              "      spin 1s steps(1) infinite;\n",
              "  }\n",
              "\n",
              "  @keyframes spin {\n",
              "    0% {\n",
              "      border-color: transparent;\n",
              "      border-bottom-color: var(--fill-color);\n",
              "      border-left-color: var(--fill-color);\n",
              "    }\n",
              "    20% {\n",
              "      border-color: transparent;\n",
              "      border-left-color: var(--fill-color);\n",
              "      border-top-color: var(--fill-color);\n",
              "    }\n",
              "    30% {\n",
              "      border-color: transparent;\n",
              "      border-left-color: var(--fill-color);\n",
              "      border-top-color: var(--fill-color);\n",
              "      border-right-color: var(--fill-color);\n",
              "    }\n",
              "    40% {\n",
              "      border-color: transparent;\n",
              "      border-right-color: var(--fill-color);\n",
              "      border-top-color: var(--fill-color);\n",
              "    }\n",
              "    60% {\n",
              "      border-color: transparent;\n",
              "      border-right-color: var(--fill-color);\n",
              "    }\n",
              "    80% {\n",
              "      border-color: transparent;\n",
              "      border-right-color: var(--fill-color);\n",
              "      border-bottom-color: var(--fill-color);\n",
              "    }\n",
              "    90% {\n",
              "      border-color: transparent;\n",
              "      border-bottom-color: var(--fill-color);\n",
              "    }\n",
              "  }\n",
              "</style>\n",
              "\n",
              "      <script>\n",
              "        async function quickchart(key) {\n",
              "          const quickchartButtonEl =\n",
              "            document.querySelector('#' + key + ' button');\n",
              "          quickchartButtonEl.disabled = true;  // To prevent multiple clicks.\n",
              "          quickchartButtonEl.classList.add('colab-df-spinner');\n",
              "          try {\n",
              "            const charts = await google.colab.kernel.invokeFunction(\n",
              "                'suggestCharts', [key], {});\n",
              "          } catch (error) {\n",
              "            console.error('Error during call to suggestCharts:', error);\n",
              "          }\n",
              "          quickchartButtonEl.classList.remove('colab-df-spinner');\n",
              "          quickchartButtonEl.classList.add('colab-df-quickchart-complete');\n",
              "        }\n",
              "        (() => {\n",
              "          let quickchartButtonEl =\n",
              "            document.querySelector('#df-c072bcf1-bb96-4419-91fa-32d4b753528f button');\n",
              "          quickchartButtonEl.style.display =\n",
              "            google.colab.kernel.accessAllowed ? 'block' : 'none';\n",
              "        })();\n",
              "      </script>\n",
              "    </div>\n",
              "\n",
              "  <div id=\"id_1787d5fa-76ed-4cda-b6ee-e47844e41808\">\n",
              "    <style>\n",
              "      .colab-df-generate {\n",
              "        background-color: #E8F0FE;\n",
              "        border: none;\n",
              "        border-radius: 50%;\n",
              "        cursor: pointer;\n",
              "        display: none;\n",
              "        fill: #1967D2;\n",
              "        height: 32px;\n",
              "        padding: 0 0 0 0;\n",
              "        width: 32px;\n",
              "      }\n",
              "\n",
              "      .colab-df-generate:hover {\n",
              "        background-color: #E2EBFA;\n",
              "        box-shadow: 0px 1px 2px rgba(60, 64, 67, 0.3), 0px 1px 3px 1px rgba(60, 64, 67, 0.15);\n",
              "        fill: #174EA6;\n",
              "      }\n",
              "\n",
              "      [theme=dark] .colab-df-generate {\n",
              "        background-color: #3B4455;\n",
              "        fill: #D2E3FC;\n",
              "      }\n",
              "\n",
              "      [theme=dark] .colab-df-generate:hover {\n",
              "        background-color: #434B5C;\n",
              "        box-shadow: 0px 1px 3px 1px rgba(0, 0, 0, 0.15);\n",
              "        filter: drop-shadow(0px 1px 2px rgba(0, 0, 0, 0.3));\n",
              "        fill: #FFFFFF;\n",
              "      }\n",
              "    </style>\n",
              "    <button class=\"colab-df-generate\" onclick=\"generateWithVariable('data')\"\n",
              "            title=\"Generate code using this dataframe.\"\n",
              "            style=\"display:none;\">\n",
              "\n",
              "  <svg xmlns=\"http://www.w3.org/2000/svg\" height=\"24px\"viewBox=\"0 0 24 24\"\n",
              "       width=\"24px\">\n",
              "    <path d=\"M7,19H8.4L18.45,9,17,7.55,7,17.6ZM5,21V16.75L18.45,3.32a2,2,0,0,1,2.83,0l1.4,1.43a1.91,1.91,0,0,1,.58,1.4,1.91,1.91,0,0,1-.58,1.4L9.25,21ZM18.45,9,17,7.55Zm-12,3A5.31,5.31,0,0,0,4.9,8.1,5.31,5.31,0,0,0,1,6.5,5.31,5.31,0,0,0,4.9,4.9,5.31,5.31,0,0,0,6.5,1,5.31,5.31,0,0,0,8.1,4.9,5.31,5.31,0,0,0,12,6.5,5.46,5.46,0,0,0,6.5,12Z\"/>\n",
              "  </svg>\n",
              "    </button>\n",
              "    <script>\n",
              "      (() => {\n",
              "      const buttonEl =\n",
              "        document.querySelector('#id_1787d5fa-76ed-4cda-b6ee-e47844e41808 button.colab-df-generate');\n",
              "      buttonEl.style.display =\n",
              "        google.colab.kernel.accessAllowed ? 'block' : 'none';\n",
              "\n",
              "      buttonEl.onclick = () => {\n",
              "        google.colab.notebook.generateWithVariable('data');\n",
              "      }\n",
              "      })();\n",
              "    </script>\n",
              "  </div>\n",
              "\n",
              "    </div>\n",
              "  </div>\n"
            ],
            "application/vnd.google.colaboratory.intrinsic+json": {
              "type": "dataframe",
              "variable_name": "data"
            }
          },
          "metadata": {},
          "execution_count": 3
        }
      ],
      "source": [
        "data"
      ]
    },
    {
      "cell_type": "code",
      "execution_count": 4,
      "id": "3d5283d7",
      "metadata": {
        "id": "3d5283d7"
      },
      "outputs": [],
      "source": [
        "data = data.reset_index(drop=True)"
      ]
    },
    {
      "cell_type": "code",
      "execution_count": 5,
      "id": "2105b50a",
      "metadata": {
        "colab": {
          "base_uri": "https://localhost:8080/",
          "height": 443
        },
        "id": "2105b50a",
        "outputId": "241e7e1e-4920-49b0-ab73-09c7eba95898"
      },
      "outputs": [
        {
          "output_type": "execute_result",
          "data": {
            "text/plain": [
              "     cap_shape cap_surface cap_color bruises     odor gill_attachment  \\\n",
              "0       sunken       scaly     white      no    anise      descending   \n",
              "1       sunken     fibrous       red      no    anise         notched   \n",
              "2         flat     grooves    purple     yes     foul      descending   \n",
              "3         bell       scaly      pink     yes    fishy         notched   \n",
              "4         flat      smooth    yellow     yes    musty            free   \n",
              "...        ...         ...       ...     ...      ...             ...   \n",
              "1995    sunken       scaly     brown     yes     foul        attached   \n",
              "1996    sunken       scaly    purple     yes    musty        attached   \n",
              "1997    convex     grooves     green     yes    fishy         notched   \n",
              "1998      bell      smooth     white      no  pungent            free   \n",
              "1999    convex       scaly    yellow     yes  pungent      descending   \n",
              "\n",
              "     gill_spacing gill_size gill_color stalk_shape  ...  veil_type veil_color  \\\n",
              "0         distant     broad       pink    tapering  ...    partial      brown   \n",
              "1         crowded    narrow  chocolate   enlarging  ...  universal      brown   \n",
              "2         crowded     broad     purple    tapering  ...  universal     yellow   \n",
              "3           close     broad     orange   enlarging  ...    partial     yellow   \n",
              "4         crowded    narrow     orange   enlarging  ...  universal      white   \n",
              "...           ...       ...        ...         ...  ...        ...        ...   \n",
              "1995      crowded    narrow  chocolate    tapering  ...    partial     orange   \n",
              "1996      distant    narrow        red    tapering  ...    partial      white   \n",
              "1997        close    narrow       pink    tapering  ...    partial      brown   \n",
              "1998        close    narrow     orange   enlarging  ...  universal     yellow   \n",
              "1999        close    narrow     purple   enlarging  ...    partial      white   \n",
              "\n",
              "     ring_number   ring_type spore_print_color population  habitat      class  \\\n",
              "0            two   sheathing         chocolate  clustered    waste  poisonous   \n",
              "1            two   sheathing             brown   numerous    waste     edible   \n",
              "2            two   sheathing            purple   abundant    waste  poisonous   \n",
              "3            two    cobwebby             green  clustered  grasses  poisonous   \n",
              "4           none        none            yellow  clustered    urban  poisonous   \n",
              "...          ...         ...               ...        ...      ...        ...   \n",
              "1995         one     flaring            purple   abundant   leaves  poisonous   \n",
              "1996         one        zone            yellow   numerous    waste  poisonous   \n",
              "1997         two  evanescent            yellow   abundant    woods  poisonous   \n",
              "1998         one    cobwebby             brown   solitary    woods  poisonous   \n",
              "1999         two       large             white   numerous    urban  poisonous   \n",
              "\n",
              "     stalk_height cap_diameter  \n",
              "0       14.276173     5.054983  \n",
              "1        3.952715    19.068319  \n",
              "2        9.054265     7.205884  \n",
              "3        5.226499    20.932692  \n",
              "4       14.037532    12.545245  \n",
              "...           ...          ...  \n",
              "1995     5.877891    17.464145  \n",
              "1996     6.500840    13.501957  \n",
              "1997    13.558064    11.270020  \n",
              "1998    11.092703     8.423199  \n",
              "1999    13.066414    21.056642  \n",
              "\n",
              "[2000 rows x 25 columns]"
            ],
            "text/html": [
              "\n",
              "  <div id=\"df-b3d417a9-d61f-4f53-8818-cc2929041257\" class=\"colab-df-container\">\n",
              "    <div>\n",
              "<style scoped>\n",
              "    .dataframe tbody tr th:only-of-type {\n",
              "        vertical-align: middle;\n",
              "    }\n",
              "\n",
              "    .dataframe tbody tr th {\n",
              "        vertical-align: top;\n",
              "    }\n",
              "\n",
              "    .dataframe thead th {\n",
              "        text-align: right;\n",
              "    }\n",
              "</style>\n",
              "<table border=\"1\" class=\"dataframe\">\n",
              "  <thead>\n",
              "    <tr style=\"text-align: right;\">\n",
              "      <th></th>\n",
              "      <th>cap_shape</th>\n",
              "      <th>cap_surface</th>\n",
              "      <th>cap_color</th>\n",
              "      <th>bruises</th>\n",
              "      <th>odor</th>\n",
              "      <th>gill_attachment</th>\n",
              "      <th>gill_spacing</th>\n",
              "      <th>gill_size</th>\n",
              "      <th>gill_color</th>\n",
              "      <th>stalk_shape</th>\n",
              "      <th>...</th>\n",
              "      <th>veil_type</th>\n",
              "      <th>veil_color</th>\n",
              "      <th>ring_number</th>\n",
              "      <th>ring_type</th>\n",
              "      <th>spore_print_color</th>\n",
              "      <th>population</th>\n",
              "      <th>habitat</th>\n",
              "      <th>class</th>\n",
              "      <th>stalk_height</th>\n",
              "      <th>cap_diameter</th>\n",
              "    </tr>\n",
              "  </thead>\n",
              "  <tbody>\n",
              "    <tr>\n",
              "      <th>0</th>\n",
              "      <td>sunken</td>\n",
              "      <td>scaly</td>\n",
              "      <td>white</td>\n",
              "      <td>no</td>\n",
              "      <td>anise</td>\n",
              "      <td>descending</td>\n",
              "      <td>distant</td>\n",
              "      <td>broad</td>\n",
              "      <td>pink</td>\n",
              "      <td>tapering</td>\n",
              "      <td>...</td>\n",
              "      <td>partial</td>\n",
              "      <td>brown</td>\n",
              "      <td>two</td>\n",
              "      <td>sheathing</td>\n",
              "      <td>chocolate</td>\n",
              "      <td>clustered</td>\n",
              "      <td>waste</td>\n",
              "      <td>poisonous</td>\n",
              "      <td>14.276173</td>\n",
              "      <td>5.054983</td>\n",
              "    </tr>\n",
              "    <tr>\n",
              "      <th>1</th>\n",
              "      <td>sunken</td>\n",
              "      <td>fibrous</td>\n",
              "      <td>red</td>\n",
              "      <td>no</td>\n",
              "      <td>anise</td>\n",
              "      <td>notched</td>\n",
              "      <td>crowded</td>\n",
              "      <td>narrow</td>\n",
              "      <td>chocolate</td>\n",
              "      <td>enlarging</td>\n",
              "      <td>...</td>\n",
              "      <td>universal</td>\n",
              "      <td>brown</td>\n",
              "      <td>two</td>\n",
              "      <td>sheathing</td>\n",
              "      <td>brown</td>\n",
              "      <td>numerous</td>\n",
              "      <td>waste</td>\n",
              "      <td>edible</td>\n",
              "      <td>3.952715</td>\n",
              "      <td>19.068319</td>\n",
              "    </tr>\n",
              "    <tr>\n",
              "      <th>2</th>\n",
              "      <td>flat</td>\n",
              "      <td>grooves</td>\n",
              "      <td>purple</td>\n",
              "      <td>yes</td>\n",
              "      <td>foul</td>\n",
              "      <td>descending</td>\n",
              "      <td>crowded</td>\n",
              "      <td>broad</td>\n",
              "      <td>purple</td>\n",
              "      <td>tapering</td>\n",
              "      <td>...</td>\n",
              "      <td>universal</td>\n",
              "      <td>yellow</td>\n",
              "      <td>two</td>\n",
              "      <td>sheathing</td>\n",
              "      <td>purple</td>\n",
              "      <td>abundant</td>\n",
              "      <td>waste</td>\n",
              "      <td>poisonous</td>\n",
              "      <td>9.054265</td>\n",
              "      <td>7.205884</td>\n",
              "    </tr>\n",
              "    <tr>\n",
              "      <th>3</th>\n",
              "      <td>bell</td>\n",
              "      <td>scaly</td>\n",
              "      <td>pink</td>\n",
              "      <td>yes</td>\n",
              "      <td>fishy</td>\n",
              "      <td>notched</td>\n",
              "      <td>close</td>\n",
              "      <td>broad</td>\n",
              "      <td>orange</td>\n",
              "      <td>enlarging</td>\n",
              "      <td>...</td>\n",
              "      <td>partial</td>\n",
              "      <td>yellow</td>\n",
              "      <td>two</td>\n",
              "      <td>cobwebby</td>\n",
              "      <td>green</td>\n",
              "      <td>clustered</td>\n",
              "      <td>grasses</td>\n",
              "      <td>poisonous</td>\n",
              "      <td>5.226499</td>\n",
              "      <td>20.932692</td>\n",
              "    </tr>\n",
              "    <tr>\n",
              "      <th>4</th>\n",
              "      <td>flat</td>\n",
              "      <td>smooth</td>\n",
              "      <td>yellow</td>\n",
              "      <td>yes</td>\n",
              "      <td>musty</td>\n",
              "      <td>free</td>\n",
              "      <td>crowded</td>\n",
              "      <td>narrow</td>\n",
              "      <td>orange</td>\n",
              "      <td>enlarging</td>\n",
              "      <td>...</td>\n",
              "      <td>universal</td>\n",
              "      <td>white</td>\n",
              "      <td>none</td>\n",
              "      <td>none</td>\n",
              "      <td>yellow</td>\n",
              "      <td>clustered</td>\n",
              "      <td>urban</td>\n",
              "      <td>poisonous</td>\n",
              "      <td>14.037532</td>\n",
              "      <td>12.545245</td>\n",
              "    </tr>\n",
              "    <tr>\n",
              "      <th>...</th>\n",
              "      <td>...</td>\n",
              "      <td>...</td>\n",
              "      <td>...</td>\n",
              "      <td>...</td>\n",
              "      <td>...</td>\n",
              "      <td>...</td>\n",
              "      <td>...</td>\n",
              "      <td>...</td>\n",
              "      <td>...</td>\n",
              "      <td>...</td>\n",
              "      <td>...</td>\n",
              "      <td>...</td>\n",
              "      <td>...</td>\n",
              "      <td>...</td>\n",
              "      <td>...</td>\n",
              "      <td>...</td>\n",
              "      <td>...</td>\n",
              "      <td>...</td>\n",
              "      <td>...</td>\n",
              "      <td>...</td>\n",
              "      <td>...</td>\n",
              "    </tr>\n",
              "    <tr>\n",
              "      <th>1995</th>\n",
              "      <td>sunken</td>\n",
              "      <td>scaly</td>\n",
              "      <td>brown</td>\n",
              "      <td>yes</td>\n",
              "      <td>foul</td>\n",
              "      <td>attached</td>\n",
              "      <td>crowded</td>\n",
              "      <td>narrow</td>\n",
              "      <td>chocolate</td>\n",
              "      <td>tapering</td>\n",
              "      <td>...</td>\n",
              "      <td>partial</td>\n",
              "      <td>orange</td>\n",
              "      <td>one</td>\n",
              "      <td>flaring</td>\n",
              "      <td>purple</td>\n",
              "      <td>abundant</td>\n",
              "      <td>leaves</td>\n",
              "      <td>poisonous</td>\n",
              "      <td>5.877891</td>\n",
              "      <td>17.464145</td>\n",
              "    </tr>\n",
              "    <tr>\n",
              "      <th>1996</th>\n",
              "      <td>sunken</td>\n",
              "      <td>scaly</td>\n",
              "      <td>purple</td>\n",
              "      <td>yes</td>\n",
              "      <td>musty</td>\n",
              "      <td>attached</td>\n",
              "      <td>distant</td>\n",
              "      <td>narrow</td>\n",
              "      <td>red</td>\n",
              "      <td>tapering</td>\n",
              "      <td>...</td>\n",
              "      <td>partial</td>\n",
              "      <td>white</td>\n",
              "      <td>one</td>\n",
              "      <td>zone</td>\n",
              "      <td>yellow</td>\n",
              "      <td>numerous</td>\n",
              "      <td>waste</td>\n",
              "      <td>poisonous</td>\n",
              "      <td>6.500840</td>\n",
              "      <td>13.501957</td>\n",
              "    </tr>\n",
              "    <tr>\n",
              "      <th>1997</th>\n",
              "      <td>convex</td>\n",
              "      <td>grooves</td>\n",
              "      <td>green</td>\n",
              "      <td>yes</td>\n",
              "      <td>fishy</td>\n",
              "      <td>notched</td>\n",
              "      <td>close</td>\n",
              "      <td>narrow</td>\n",
              "      <td>pink</td>\n",
              "      <td>tapering</td>\n",
              "      <td>...</td>\n",
              "      <td>partial</td>\n",
              "      <td>brown</td>\n",
              "      <td>two</td>\n",
              "      <td>evanescent</td>\n",
              "      <td>yellow</td>\n",
              "      <td>abundant</td>\n",
              "      <td>woods</td>\n",
              "      <td>poisonous</td>\n",
              "      <td>13.558064</td>\n",
              "      <td>11.270020</td>\n",
              "    </tr>\n",
              "    <tr>\n",
              "      <th>1998</th>\n",
              "      <td>bell</td>\n",
              "      <td>smooth</td>\n",
              "      <td>white</td>\n",
              "      <td>no</td>\n",
              "      <td>pungent</td>\n",
              "      <td>free</td>\n",
              "      <td>close</td>\n",
              "      <td>narrow</td>\n",
              "      <td>orange</td>\n",
              "      <td>enlarging</td>\n",
              "      <td>...</td>\n",
              "      <td>universal</td>\n",
              "      <td>yellow</td>\n",
              "      <td>one</td>\n",
              "      <td>cobwebby</td>\n",
              "      <td>brown</td>\n",
              "      <td>solitary</td>\n",
              "      <td>woods</td>\n",
              "      <td>poisonous</td>\n",
              "      <td>11.092703</td>\n",
              "      <td>8.423199</td>\n",
              "    </tr>\n",
              "    <tr>\n",
              "      <th>1999</th>\n",
              "      <td>convex</td>\n",
              "      <td>scaly</td>\n",
              "      <td>yellow</td>\n",
              "      <td>yes</td>\n",
              "      <td>pungent</td>\n",
              "      <td>descending</td>\n",
              "      <td>close</td>\n",
              "      <td>narrow</td>\n",
              "      <td>purple</td>\n",
              "      <td>enlarging</td>\n",
              "      <td>...</td>\n",
              "      <td>partial</td>\n",
              "      <td>white</td>\n",
              "      <td>two</td>\n",
              "      <td>large</td>\n",
              "      <td>white</td>\n",
              "      <td>numerous</td>\n",
              "      <td>urban</td>\n",
              "      <td>poisonous</td>\n",
              "      <td>13.066414</td>\n",
              "      <td>21.056642</td>\n",
              "    </tr>\n",
              "  </tbody>\n",
              "</table>\n",
              "<p>2000 rows × 25 columns</p>\n",
              "</div>\n",
              "    <div class=\"colab-df-buttons\">\n",
              "\n",
              "  <div class=\"colab-df-container\">\n",
              "    <button class=\"colab-df-convert\" onclick=\"convertToInteractive('df-b3d417a9-d61f-4f53-8818-cc2929041257')\"\n",
              "            title=\"Convert this dataframe to an interactive table.\"\n",
              "            style=\"display:none;\">\n",
              "\n",
              "  <svg xmlns=\"http://www.w3.org/2000/svg\" height=\"24px\" viewBox=\"0 -960 960 960\">\n",
              "    <path d=\"M120-120v-720h720v720H120Zm60-500h600v-160H180v160Zm220 220h160v-160H400v160Zm0 220h160v-160H400v160ZM180-400h160v-160H180v160Zm440 0h160v-160H620v160ZM180-180h160v-160H180v160Zm440 0h160v-160H620v160Z\"/>\n",
              "  </svg>\n",
              "    </button>\n",
              "\n",
              "  <style>\n",
              "    .colab-df-container {\n",
              "      display:flex;\n",
              "      gap: 12px;\n",
              "    }\n",
              "\n",
              "    .colab-df-convert {\n",
              "      background-color: #E8F0FE;\n",
              "      border: none;\n",
              "      border-radius: 50%;\n",
              "      cursor: pointer;\n",
              "      display: none;\n",
              "      fill: #1967D2;\n",
              "      height: 32px;\n",
              "      padding: 0 0 0 0;\n",
              "      width: 32px;\n",
              "    }\n",
              "\n",
              "    .colab-df-convert:hover {\n",
              "      background-color: #E2EBFA;\n",
              "      box-shadow: 0px 1px 2px rgba(60, 64, 67, 0.3), 0px 1px 3px 1px rgba(60, 64, 67, 0.15);\n",
              "      fill: #174EA6;\n",
              "    }\n",
              "\n",
              "    .colab-df-buttons div {\n",
              "      margin-bottom: 4px;\n",
              "    }\n",
              "\n",
              "    [theme=dark] .colab-df-convert {\n",
              "      background-color: #3B4455;\n",
              "      fill: #D2E3FC;\n",
              "    }\n",
              "\n",
              "    [theme=dark] .colab-df-convert:hover {\n",
              "      background-color: #434B5C;\n",
              "      box-shadow: 0px 1px 3px 1px rgba(0, 0, 0, 0.15);\n",
              "      filter: drop-shadow(0px 1px 2px rgba(0, 0, 0, 0.3));\n",
              "      fill: #FFFFFF;\n",
              "    }\n",
              "  </style>\n",
              "\n",
              "    <script>\n",
              "      const buttonEl =\n",
              "        document.querySelector('#df-b3d417a9-d61f-4f53-8818-cc2929041257 button.colab-df-convert');\n",
              "      buttonEl.style.display =\n",
              "        google.colab.kernel.accessAllowed ? 'block' : 'none';\n",
              "\n",
              "      async function convertToInteractive(key) {\n",
              "        const element = document.querySelector('#df-b3d417a9-d61f-4f53-8818-cc2929041257');\n",
              "        const dataTable =\n",
              "          await google.colab.kernel.invokeFunction('convertToInteractive',\n",
              "                                                    [key], {});\n",
              "        if (!dataTable) return;\n",
              "\n",
              "        const docLinkHtml = 'Like what you see? Visit the ' +\n",
              "          '<a target=\"_blank\" href=https://colab.research.google.com/notebooks/data_table.ipynb>data table notebook</a>'\n",
              "          + ' to learn more about interactive tables.';\n",
              "        element.innerHTML = '';\n",
              "        dataTable['output_type'] = 'display_data';\n",
              "        await google.colab.output.renderOutput(dataTable, element);\n",
              "        const docLink = document.createElement('div');\n",
              "        docLink.innerHTML = docLinkHtml;\n",
              "        element.appendChild(docLink);\n",
              "      }\n",
              "    </script>\n",
              "  </div>\n",
              "\n",
              "\n",
              "    <div id=\"df-280103cf-531d-4a03-b201-95f96b10ea27\">\n",
              "      <button class=\"colab-df-quickchart\" onclick=\"quickchart('df-280103cf-531d-4a03-b201-95f96b10ea27')\"\n",
              "                title=\"Suggest charts\"\n",
              "                style=\"display:none;\">\n",
              "\n",
              "<svg xmlns=\"http://www.w3.org/2000/svg\" height=\"24px\"viewBox=\"0 0 24 24\"\n",
              "     width=\"24px\">\n",
              "    <g>\n",
              "        <path d=\"M19 3H5c-1.1 0-2 .9-2 2v14c0 1.1.9 2 2 2h14c1.1 0 2-.9 2-2V5c0-1.1-.9-2-2-2zM9 17H7v-7h2v7zm4 0h-2V7h2v10zm4 0h-2v-4h2v4z\"/>\n",
              "    </g>\n",
              "</svg>\n",
              "      </button>\n",
              "\n",
              "<style>\n",
              "  .colab-df-quickchart {\n",
              "      --bg-color: #E8F0FE;\n",
              "      --fill-color: #1967D2;\n",
              "      --hover-bg-color: #E2EBFA;\n",
              "      --hover-fill-color: #174EA6;\n",
              "      --disabled-fill-color: #AAA;\n",
              "      --disabled-bg-color: #DDD;\n",
              "  }\n",
              "\n",
              "  [theme=dark] .colab-df-quickchart {\n",
              "      --bg-color: #3B4455;\n",
              "      --fill-color: #D2E3FC;\n",
              "      --hover-bg-color: #434B5C;\n",
              "      --hover-fill-color: #FFFFFF;\n",
              "      --disabled-bg-color: #3B4455;\n",
              "      --disabled-fill-color: #666;\n",
              "  }\n",
              "\n",
              "  .colab-df-quickchart {\n",
              "    background-color: var(--bg-color);\n",
              "    border: none;\n",
              "    border-radius: 50%;\n",
              "    cursor: pointer;\n",
              "    display: none;\n",
              "    fill: var(--fill-color);\n",
              "    height: 32px;\n",
              "    padding: 0;\n",
              "    width: 32px;\n",
              "  }\n",
              "\n",
              "  .colab-df-quickchart:hover {\n",
              "    background-color: var(--hover-bg-color);\n",
              "    box-shadow: 0 1px 2px rgba(60, 64, 67, 0.3), 0 1px 3px 1px rgba(60, 64, 67, 0.15);\n",
              "    fill: var(--button-hover-fill-color);\n",
              "  }\n",
              "\n",
              "  .colab-df-quickchart-complete:disabled,\n",
              "  .colab-df-quickchart-complete:disabled:hover {\n",
              "    background-color: var(--disabled-bg-color);\n",
              "    fill: var(--disabled-fill-color);\n",
              "    box-shadow: none;\n",
              "  }\n",
              "\n",
              "  .colab-df-spinner {\n",
              "    border: 2px solid var(--fill-color);\n",
              "    border-color: transparent;\n",
              "    border-bottom-color: var(--fill-color);\n",
              "    animation:\n",
              "      spin 1s steps(1) infinite;\n",
              "  }\n",
              "\n",
              "  @keyframes spin {\n",
              "    0% {\n",
              "      border-color: transparent;\n",
              "      border-bottom-color: var(--fill-color);\n",
              "      border-left-color: var(--fill-color);\n",
              "    }\n",
              "    20% {\n",
              "      border-color: transparent;\n",
              "      border-left-color: var(--fill-color);\n",
              "      border-top-color: var(--fill-color);\n",
              "    }\n",
              "    30% {\n",
              "      border-color: transparent;\n",
              "      border-left-color: var(--fill-color);\n",
              "      border-top-color: var(--fill-color);\n",
              "      border-right-color: var(--fill-color);\n",
              "    }\n",
              "    40% {\n",
              "      border-color: transparent;\n",
              "      border-right-color: var(--fill-color);\n",
              "      border-top-color: var(--fill-color);\n",
              "    }\n",
              "    60% {\n",
              "      border-color: transparent;\n",
              "      border-right-color: var(--fill-color);\n",
              "    }\n",
              "    80% {\n",
              "      border-color: transparent;\n",
              "      border-right-color: var(--fill-color);\n",
              "      border-bottom-color: var(--fill-color);\n",
              "    }\n",
              "    90% {\n",
              "      border-color: transparent;\n",
              "      border-bottom-color: var(--fill-color);\n",
              "    }\n",
              "  }\n",
              "</style>\n",
              "\n",
              "      <script>\n",
              "        async function quickchart(key) {\n",
              "          const quickchartButtonEl =\n",
              "            document.querySelector('#' + key + ' button');\n",
              "          quickchartButtonEl.disabled = true;  // To prevent multiple clicks.\n",
              "          quickchartButtonEl.classList.add('colab-df-spinner');\n",
              "          try {\n",
              "            const charts = await google.colab.kernel.invokeFunction(\n",
              "                'suggestCharts', [key], {});\n",
              "          } catch (error) {\n",
              "            console.error('Error during call to suggestCharts:', error);\n",
              "          }\n",
              "          quickchartButtonEl.classList.remove('colab-df-spinner');\n",
              "          quickchartButtonEl.classList.add('colab-df-quickchart-complete');\n",
              "        }\n",
              "        (() => {\n",
              "          let quickchartButtonEl =\n",
              "            document.querySelector('#df-280103cf-531d-4a03-b201-95f96b10ea27 button');\n",
              "          quickchartButtonEl.style.display =\n",
              "            google.colab.kernel.accessAllowed ? 'block' : 'none';\n",
              "        })();\n",
              "      </script>\n",
              "    </div>\n",
              "\n",
              "  <div id=\"id_62ba1b58-b7f3-4013-a1a1-f06cbc7d02b4\">\n",
              "    <style>\n",
              "      .colab-df-generate {\n",
              "        background-color: #E8F0FE;\n",
              "        border: none;\n",
              "        border-radius: 50%;\n",
              "        cursor: pointer;\n",
              "        display: none;\n",
              "        fill: #1967D2;\n",
              "        height: 32px;\n",
              "        padding: 0 0 0 0;\n",
              "        width: 32px;\n",
              "      }\n",
              "\n",
              "      .colab-df-generate:hover {\n",
              "        background-color: #E2EBFA;\n",
              "        box-shadow: 0px 1px 2px rgba(60, 64, 67, 0.3), 0px 1px 3px 1px rgba(60, 64, 67, 0.15);\n",
              "        fill: #174EA6;\n",
              "      }\n",
              "\n",
              "      [theme=dark] .colab-df-generate {\n",
              "        background-color: #3B4455;\n",
              "        fill: #D2E3FC;\n",
              "      }\n",
              "\n",
              "      [theme=dark] .colab-df-generate:hover {\n",
              "        background-color: #434B5C;\n",
              "        box-shadow: 0px 1px 3px 1px rgba(0, 0, 0, 0.15);\n",
              "        filter: drop-shadow(0px 1px 2px rgba(0, 0, 0, 0.3));\n",
              "        fill: #FFFFFF;\n",
              "      }\n",
              "    </style>\n",
              "    <button class=\"colab-df-generate\" onclick=\"generateWithVariable('data')\"\n",
              "            title=\"Generate code using this dataframe.\"\n",
              "            style=\"display:none;\">\n",
              "\n",
              "  <svg xmlns=\"http://www.w3.org/2000/svg\" height=\"24px\"viewBox=\"0 0 24 24\"\n",
              "       width=\"24px\">\n",
              "    <path d=\"M7,19H8.4L18.45,9,17,7.55,7,17.6ZM5,21V16.75L18.45,3.32a2,2,0,0,1,2.83,0l1.4,1.43a1.91,1.91,0,0,1,.58,1.4,1.91,1.91,0,0,1-.58,1.4L9.25,21ZM18.45,9,17,7.55Zm-12,3A5.31,5.31,0,0,0,4.9,8.1,5.31,5.31,0,0,0,1,6.5,5.31,5.31,0,0,0,4.9,4.9,5.31,5.31,0,0,0,6.5,1,5.31,5.31,0,0,0,8.1,4.9,5.31,5.31,0,0,0,12,6.5,5.46,5.46,0,0,0,6.5,12Z\"/>\n",
              "  </svg>\n",
              "    </button>\n",
              "    <script>\n",
              "      (() => {\n",
              "      const buttonEl =\n",
              "        document.querySelector('#id_62ba1b58-b7f3-4013-a1a1-f06cbc7d02b4 button.colab-df-generate');\n",
              "      buttonEl.style.display =\n",
              "        google.colab.kernel.accessAllowed ? 'block' : 'none';\n",
              "\n",
              "      buttonEl.onclick = () => {\n",
              "        google.colab.notebook.generateWithVariable('data');\n",
              "      }\n",
              "      })();\n",
              "    </script>\n",
              "  </div>\n",
              "\n",
              "    </div>\n",
              "  </div>\n"
            ],
            "application/vnd.google.colaboratory.intrinsic+json": {
              "type": "dataframe",
              "variable_name": "data"
            }
          },
          "metadata": {},
          "execution_count": 5
        }
      ],
      "source": [
        "data"
      ]
    },
    {
      "cell_type": "code",
      "execution_count": 6,
      "id": "0c510846",
      "metadata": {
        "colab": {
          "base_uri": "https://localhost:8080/"
        },
        "id": "0c510846",
        "outputId": "418036fd-05f1-458e-f6f1-f6af51e4d625"
      },
      "outputs": [
        {
          "output_type": "execute_result",
          "data": {
            "text/plain": [
              "np.int64(1024)"
            ]
          },
          "metadata": {},
          "execution_count": 6
        }
      ],
      "source": [
        "data.duplicated().sum()"
      ]
    },
    {
      "cell_type": "code",
      "execution_count": 7,
      "id": "ae291796",
      "metadata": {
        "id": "ae291796"
      },
      "outputs": [],
      "source": [
        "data.drop_duplicates(keep = 'first', inplace = True)"
      ]
    },
    {
      "cell_type": "code",
      "execution_count": 8,
      "id": "a4522aa1",
      "metadata": {
        "colab": {
          "base_uri": "https://localhost:8080/",
          "height": 868
        },
        "id": "a4522aa1",
        "outputId": "0e455dc3-4c4c-4b4a-bbbe-1db08606161d"
      },
      "outputs": [
        {
          "output_type": "execute_result",
          "data": {
            "text/plain": [
              "cap_shape                   0\n",
              "cap_surface                 0\n",
              "cap_color                   0\n",
              "bruises                     0\n",
              "odor                        0\n",
              "gill_attachment             0\n",
              "gill_spacing                0\n",
              "gill_size                   0\n",
              "gill_color                  0\n",
              "stalk_shape                 0\n",
              "stalk_root                  0\n",
              "stalk_surface_above_ring    0\n",
              "stalk_surface_below_ring    0\n",
              "stalk_color_above_ring      0\n",
              "stalk_color_below_ring      0\n",
              "veil_type                   0\n",
              "veil_color                  0\n",
              "ring_number                 0\n",
              "ring_type                   0\n",
              "spore_print_color           0\n",
              "population                  0\n",
              "habitat                     0\n",
              "class                       0\n",
              "stalk_height                0\n",
              "cap_diameter                0\n",
              "dtype: int64"
            ],
            "text/html": [
              "<div>\n",
              "<style scoped>\n",
              "    .dataframe tbody tr th:only-of-type {\n",
              "        vertical-align: middle;\n",
              "    }\n",
              "\n",
              "    .dataframe tbody tr th {\n",
              "        vertical-align: top;\n",
              "    }\n",
              "\n",
              "    .dataframe thead th {\n",
              "        text-align: right;\n",
              "    }\n",
              "</style>\n",
              "<table border=\"1\" class=\"dataframe\">\n",
              "  <thead>\n",
              "    <tr style=\"text-align: right;\">\n",
              "      <th></th>\n",
              "      <th>0</th>\n",
              "    </tr>\n",
              "  </thead>\n",
              "  <tbody>\n",
              "    <tr>\n",
              "      <th>cap_shape</th>\n",
              "      <td>0</td>\n",
              "    </tr>\n",
              "    <tr>\n",
              "      <th>cap_surface</th>\n",
              "      <td>0</td>\n",
              "    </tr>\n",
              "    <tr>\n",
              "      <th>cap_color</th>\n",
              "      <td>0</td>\n",
              "    </tr>\n",
              "    <tr>\n",
              "      <th>bruises</th>\n",
              "      <td>0</td>\n",
              "    </tr>\n",
              "    <tr>\n",
              "      <th>odor</th>\n",
              "      <td>0</td>\n",
              "    </tr>\n",
              "    <tr>\n",
              "      <th>gill_attachment</th>\n",
              "      <td>0</td>\n",
              "    </tr>\n",
              "    <tr>\n",
              "      <th>gill_spacing</th>\n",
              "      <td>0</td>\n",
              "    </tr>\n",
              "    <tr>\n",
              "      <th>gill_size</th>\n",
              "      <td>0</td>\n",
              "    </tr>\n",
              "    <tr>\n",
              "      <th>gill_color</th>\n",
              "      <td>0</td>\n",
              "    </tr>\n",
              "    <tr>\n",
              "      <th>stalk_shape</th>\n",
              "      <td>0</td>\n",
              "    </tr>\n",
              "    <tr>\n",
              "      <th>stalk_root</th>\n",
              "      <td>0</td>\n",
              "    </tr>\n",
              "    <tr>\n",
              "      <th>stalk_surface_above_ring</th>\n",
              "      <td>0</td>\n",
              "    </tr>\n",
              "    <tr>\n",
              "      <th>stalk_surface_below_ring</th>\n",
              "      <td>0</td>\n",
              "    </tr>\n",
              "    <tr>\n",
              "      <th>stalk_color_above_ring</th>\n",
              "      <td>0</td>\n",
              "    </tr>\n",
              "    <tr>\n",
              "      <th>stalk_color_below_ring</th>\n",
              "      <td>0</td>\n",
              "    </tr>\n",
              "    <tr>\n",
              "      <th>veil_type</th>\n",
              "      <td>0</td>\n",
              "    </tr>\n",
              "    <tr>\n",
              "      <th>veil_color</th>\n",
              "      <td>0</td>\n",
              "    </tr>\n",
              "    <tr>\n",
              "      <th>ring_number</th>\n",
              "      <td>0</td>\n",
              "    </tr>\n",
              "    <tr>\n",
              "      <th>ring_type</th>\n",
              "      <td>0</td>\n",
              "    </tr>\n",
              "    <tr>\n",
              "      <th>spore_print_color</th>\n",
              "      <td>0</td>\n",
              "    </tr>\n",
              "    <tr>\n",
              "      <th>population</th>\n",
              "      <td>0</td>\n",
              "    </tr>\n",
              "    <tr>\n",
              "      <th>habitat</th>\n",
              "      <td>0</td>\n",
              "    </tr>\n",
              "    <tr>\n",
              "      <th>class</th>\n",
              "      <td>0</td>\n",
              "    </tr>\n",
              "    <tr>\n",
              "      <th>stalk_height</th>\n",
              "      <td>0</td>\n",
              "    </tr>\n",
              "    <tr>\n",
              "      <th>cap_diameter</th>\n",
              "      <td>0</td>\n",
              "    </tr>\n",
              "  </tbody>\n",
              "</table>\n",
              "</div><br><label><b>dtype:</b> int64</label>"
            ]
          },
          "metadata": {},
          "execution_count": 8
        }
      ],
      "source": [
        "data.isnull().sum()"
      ]
    },
    {
      "cell_type": "code",
      "execution_count": 9,
      "id": "1b6f9351",
      "metadata": {
        "id": "1b6f9351"
      },
      "outputs": [],
      "source": [
        "data.reset_index(drop = 'first', inplace = True)"
      ]
    },
    {
      "cell_type": "code",
      "execution_count": 10,
      "id": "2f45ca3c",
      "metadata": {
        "colab": {
          "base_uri": "https://localhost:8080/",
          "height": 447
        },
        "id": "2f45ca3c",
        "outputId": "db424048-4904-4da0-dba9-91fb98ebf359"
      },
      "outputs": [
        {
          "output_type": "execute_result",
          "data": {
            "text/plain": [
              "<Axes: >"
            ]
          },
          "metadata": {},
          "execution_count": 10
        },
        {
          "output_type": "display_data",
          "data": {
            "text/plain": [
              "<Figure size 640x480 with 1 Axes>"
            ],
            "image/png": "[encoded data removed]"
          },
          "metadata": {}
        }
      ],
      "source": [
        "data.boxplot()"
      ]
    },
    {
      "cell_type": "code",
      "execution_count": 11,
      "id": "70623ef9",
      "metadata": {
        "colab": {
          "base_uri": "https://localhost:8080/",
          "height": 450
        },
        "id": "70623ef9",
        "outputId": "309dab24-cc93-4b64-a01d-a47318b57888"
      },
      "outputs": [
        {
          "output_type": "display_data",
          "data": {
            "text/plain": [
              "<Figure size 640x480 with 1 Axes>"
            ],
            "image/png": "[encoded data removed]"
          },
          "metadata": {}
        }
      ],
      "source": [
        "data['cap_shape'].value_counts().sort_index().plot(kind = 'bar')\n",
        "plt.xticks(rotation = 0);"
      ]
    },
    {
      "cell_type": "raw",
      "id": "d5cce99a",
      "metadata": {
        "id": "d5cce99a"
      },
      "source": [
        "'cap_shape' column represents that suken has highest frequency and it also represents no class imbalance."
      ]
    },
    {
      "cell_type": "code",
      "execution_count": 12,
      "id": "d2f94c2e",
      "metadata": {
        "colab": {
          "base_uri": "https://localhost:8080/",
          "height": 450
        },
        "id": "d2f94c2e",
        "outputId": "129ef1c5-d2b9-41b1-9aa1-98cb5012959b"
      },
      "outputs": [
        {
          "output_type": "display_data",
          "data": {
            "text/plain": [
              "<Figure size 640x480 with 1 Axes>"
            ],
            "image/png": "[encoded data removed]"
          },
          "metadata": {}
        }
      ],
      "source": [
        "data['cap_surface'].value_counts().sort_index().plot(kind = 'bar')\n",
        "plt.xticks(rotation = 0);"
      ]
    },
    {
      "cell_type": "raw",
      "id": "20038501",
      "metadata": {
        "id": "20038501"
      },
      "source": [
        "'cap_surface' column represents that scaly has highest frequency."
      ]
    },
    {
      "cell_type": "code",
      "execution_count": 13,
      "id": "f974773b",
      "metadata": {
        "colab": {
          "base_uri": "https://localhost:8080/",
          "height": 450
        },
        "id": "f974773b",
        "outputId": "f40beefa-cbea-403b-b111-58abc7200f0d"
      },
      "outputs": [
        {
          "output_type": "display_data",
          "data": {
            "text/plain": [
              "<Figure size 640x480 with 1 Axes>"
            ],
            "image/png": "[encoded data removed]"
          },
          "metadata": {}
        }
      ],
      "source": [
        "data['cap_color'].value_counts().sort_index().plot(kind = 'bar')\n",
        "plt.xticks(rotation = 0);"
      ]
    },
    {
      "cell_type": "raw",
      "id": "771ad92f",
      "metadata": {
        "id": "771ad92f"
      },
      "source": [
        "'cap_color' column represents that most common color of mushroom is brown followed by yellow."
      ]
    },
    {
      "cell_type": "code",
      "execution_count": 14,
      "id": "a5ab8327",
      "metadata": {
        "colab": {
          "base_uri": "https://localhost:8080/",
          "height": 449
        },
        "id": "a5ab8327",
        "outputId": "ef7e97b1-1058-4631-971f-208875939937"
      },
      "outputs": [
        {
          "output_type": "display_data",
          "data": {
            "text/plain": [
              "<Figure size 640x480 with 1 Axes>"
            ],
            "image/png": "[encoded data removed]"
          },
          "metadata": {}
        }
      ],
      "source": [
        "data['bruises'].value_counts().sort_index().plot(kind = 'bar')\n",
        "plt.xticks(rotation = 0);"
      ]
    },
    {
      "cell_type": "raw",
      "id": "57ac591f",
      "metadata": {
        "id": "57ac591f"
      },
      "source": [
        "'bruises' column represents that bruises are common."
      ]
    },
    {
      "cell_type": "code",
      "execution_count": 15,
      "id": "eedd4ae8",
      "metadata": {
        "colab": {
          "base_uri": "https://localhost:8080/",
          "height": 449
        },
        "id": "eedd4ae8",
        "outputId": "245338aa-7662-4024-bcd1-c7c589f646dc"
      },
      "outputs": [
        {
          "output_type": "display_data",
          "data": {
            "text/plain": [
              "<Figure size 640x480 with 1 Axes>"
            ],
            "image/png": "[encoded data removed]"
          },
          "metadata": {}
        }
      ],
      "source": [
        "data['odor'].value_counts().sort_index().plot(kind = 'bar')\n",
        "plt.xticks(rotation = 0);"
      ]
    },
    {
      "cell_type": "raw",
      "id": "b5a21783",
      "metadata": {
        "id": "b5a21783"
      },
      "source": [
        "'odor' column represents that foul has highest frequency."
      ]
    },
    {
      "cell_type": "code",
      "execution_count": 16,
      "id": "47592a81",
      "metadata": {
        "colab": {
          "base_uri": "https://localhost:8080/",
          "height": 450
        },
        "id": "47592a81",
        "outputId": "1ff1026f-ce79-4e9f-f0ea-5ae29c672490"
      },
      "outputs": [
        {
          "output_type": "display_data",
          "data": {
            "text/plain": [
              "<Figure size 640x480 with 1 Axes>"
            ],
            "image/png": "[encoded data removed]"
          },
          "metadata": {}
        }
      ],
      "source": [
        "data['gill_attachment'].value_counts().sort_index().plot(kind = 'bar')\n",
        "plt.xticks(rotation = 0);"
      ]
    },
    {
      "cell_type": "raw",
      "id": "2f78a567",
      "metadata": {
        "id": "2f78a567"
      },
      "source": [
        "\n",
        "\n",
        "\n",
        "\n",
        "'gill_attachment' column represents that free has highest frequency."
      ]
    },
    {
      "cell_type": "code",
      "execution_count": 17,
      "id": "130ef24a",
      "metadata": {
        "colab": {
          "base_uri": "https://localhost:8080/",
          "height": 450
        },
        "id": "130ef24a",
        "outputId": "4631e936-38c4-4cde-c6c0-79d53a733f8a"
      },
      "outputs": [
        {
          "output_type": "display_data",
          "data": {
            "text/plain": [
              "<Figure size 640x480 with 1 Axes>"
            ],
            "image/png": "[encoded data removed]"
          },
          "metadata": {}
        }
      ],
      "source": [
        "data['gill_spacing'].value_counts().sort_index().plot(kind = 'bar')\n",
        "plt.xticks(rotation = 0);"
      ]
    },
    {
      "cell_type": "raw",
      "id": "5f3356bf",
      "metadata": {
        "id": "5f3356bf"
      },
      "source": [
        "'gill_spacing' column represents that all categories are almost equal."
      ]
    },
    {
      "cell_type": "code",
      "execution_count": 18,
      "id": "20ce82b5",
      "metadata": {
        "colab": {
          "base_uri": "https://localhost:8080/",
          "height": 450
        },
        "id": "20ce82b5",
        "outputId": "5796cc83-0dc5-45d3-acc0-f6e7295a7c60"
      },
      "outputs": [
        {
          "output_type": "display_data",
          "data": {
            "text/plain": [
              "<Figure size 640x480 with 1 Axes>"
            ],
            "image/png": "[encoded data removed]"
          },
          "metadata": {}
        }
      ],
      "source": [
        "data['gill_size'].value_counts().sort_index().plot(kind = 'bar')\n",
        "plt.xticks(rotation = 0);"
      ]
    },
    {
      "cell_type": "raw",
      "id": "64255f68",
      "metadata": {
        "id": "64255f68"
      },
      "source": [
        "'gill_size' column represents that narrow has highest frequency."
      ]
    },
    {
      "cell_type": "code",
      "execution_count": 19,
      "id": "ba2f5abe",
      "metadata": {
        "colab": {
          "base_uri": "https://localhost:8080/",
          "height": 697
        },
        "id": "ba2f5abe",
        "outputId": "f49f04c6-d87c-41e6-a50b-db01e8afa2c3"
      },
      "outputs": [
        {
          "output_type": "display_data",
          "data": {
            "text/plain": [
              "<Figure size 1200x800 with 1 Axes>"
            ],
            "image/png": "[encoded data removed]"
          },
          "metadata": {}
        }
      ],
      "source": [
        "plt.figure(figsize = (12,8))\n",
        "data['gill_color'].value_counts().sort_index().plot(kind = 'bar')\n",
        "plt.xticks(rotation = 0);"
      ]
    },
    {
      "cell_type": "raw",
      "id": "fe2312e9",
      "metadata": {
        "id": "fe2312e9"
      },
      "source": [
        "'gill_color' column represents that green has highest frequency."
      ]
    },
    {
      "cell_type": "code",
      "execution_count": 20,
      "id": "325ec78d",
      "metadata": {
        "colab": {
          "base_uri": "https://localhost:8080/",
          "height": 450
        },
        "id": "325ec78d",
        "outputId": "7863c3b1-1078-4f9f-9b8f-bc8fc3042bd5"
      },
      "outputs": [
        {
          "output_type": "display_data",
          "data": {
            "text/plain": [
              "<Figure size 640x480 with 1 Axes>"
            ],
            "image/png": "[encoded data removed]"
          },
          "metadata": {}
        }
      ],
      "source": [
        "data['stalk_shape'].value_counts().sort_index().plot(kind = 'bar')\n",
        "plt.xticks(rotation = 0);"
      ]
    },
    {
      "cell_type": "raw",
      "id": "63f36adb",
      "metadata": {
        "id": "63f36adb"
      },
      "source": [
        "'stalk_shape' column represents that enlarging is most common category."
      ]
    },
    {
      "cell_type": "code",
      "execution_count": 21,
      "id": "66aa58fd",
      "metadata": {
        "colab": {
          "base_uri": "https://localhost:8080/",
          "height": 450
        },
        "id": "66aa58fd",
        "outputId": "8bcf89e3-64e0-45f8-c66f-0bf7057f9cc5"
      },
      "outputs": [
        {
          "output_type": "display_data",
          "data": {
            "text/plain": [
              "<Figure size 640x480 with 1 Axes>"
            ],
            "image/png": "[encoded data removed]"
          },
          "metadata": {}
        }
      ],
      "source": [
        "data['stalk_root'].value_counts().sort_index().plot(kind = 'bar')\n",
        "plt.xticks(rotation = 0);"
      ]
    },
    {
      "cell_type": "raw",
      "id": "4f41dd18",
      "metadata": {
        "id": "4f41dd18"
      },
      "source": [
        "'stalk_root' column represents that bulbous has highest frequency."
      ]
    },
    {
      "cell_type": "code",
      "execution_count": 22,
      "id": "192dc856",
      "metadata": {
        "colab": {
          "base_uri": "https://localhost:8080/",
          "height": 450
        },
        "id": "192dc856",
        "outputId": "7573f46a-e34b-4167-a92f-9035d12bafad"
      },
      "outputs": [
        {
          "output_type": "display_data",
          "data": {
            "text/plain": [
              "<Figure size 640x480 with 1 Axes>"
            ],
            "image/png": "[encoded data removed]"
          },
          "metadata": {}
        }
      ],
      "source": [
        "data['stalk_surface_above_ring'].value_counts().sort_index().plot(kind = 'bar')\n",
        "plt.xticks(rotation = 0);"
      ]
    },
    {
      "cell_type": "raw",
      "id": "a69c7406",
      "metadata": {
        "id": "a69c7406"
      },
      "source": [
        "'stalk_surface_above_ring' column represents that fibrous has highest frequency."
      ]
    },
    {
      "cell_type": "code",
      "execution_count": 23,
      "id": "16e346cf",
      "metadata": {
        "colab": {
          "base_uri": "https://localhost:8080/",
          "height": 450
        },
        "id": "16e346cf",
        "outputId": "77630cdd-075b-4c77-e06a-14b1ff074078"
      },
      "outputs": [
        {
          "output_type": "display_data",
          "data": {
            "text/plain": [
              "<Figure size 640x480 with 1 Axes>"
            ],
            "image/png": "[encoded data removed]"
          },
          "metadata": {}
        }
      ],
      "source": [
        "data['stalk_surface_below_ring'].value_counts().sort_index().plot(kind = 'bar')\n",
        "plt.xticks(rotation = 0);"
      ]
    },
    {
      "cell_type": "raw",
      "id": "e5dc9de4",
      "metadata": {
        "id": "e5dc9de4"
      },
      "source": [
        "'stalk_surface_below_ring' column represents that silky has highest frequency."
      ]
    },
    {
      "cell_type": "code",
      "execution_count": 24,
      "id": "88201f2e",
      "metadata": {
        "colab": {
          "base_uri": "https://localhost:8080/",
          "height": 450
        },
        "id": "88201f2e",
        "outputId": "66715d49-4a38-48b4-f3f9-012138eb703d"
      },
      "outputs": [
        {
          "output_type": "display_data",
          "data": {
            "text/plain": [
              "<Figure size 640x480 with 1 Axes>"
            ],
            "image/png": "[encoded data removed]"
          },
          "metadata": {}
        }
      ],
      "source": [
        "data['stalk_color_above_ring'].value_counts().sort_index().plot(kind = 'bar')\n",
        "plt.xticks(rotation = 0);"
      ]
    },
    {
      "cell_type": "raw",
      "id": "be56fcff",
      "metadata": {
        "id": "be56fcff"
      },
      "source": [
        "'stalk_color_above_ring' column represents that brown has highest frequency."
      ]
    },
    {
      "cell_type": "code",
      "execution_count": 25,
      "id": "a0029847",
      "metadata": {
        "colab": {
          "base_uri": "https://localhost:8080/",
          "height": 450
        },
        "id": "a0029847",
        "outputId": "0ddd9b33-1fcb-4233-ec0c-9e585e4cbaaa"
      },
      "outputs": [
        {
          "output_type": "display_data",
          "data": {
            "text/plain": [
              "<Figure size 640x480 with 1 Axes>"
            ],
            "image/png": "[encoded data removed]"
          },
          "metadata": {}
        }
      ],
      "source": [
        "data['stalk_color_below_ring'].value_counts().sort_index().plot(kind = 'bar')\n",
        "plt.xticks(rotation = 0);"
      ]
    },
    {
      "cell_type": "raw",
      "id": "f5f9521d",
      "metadata": {
        "id": "f5f9521d"
      },
      "source": [
        "'stalk_color_below_ring' column represents that orange and yellow have highest frequency."
      ]
    },
    {
      "cell_type": "code",
      "execution_count": 26,
      "id": "f3de6446",
      "metadata": {
        "colab": {
          "base_uri": "https://localhost:8080/",
          "height": 450
        },
        "id": "f3de6446",
        "outputId": "1b567510-a5ae-4c56-b9a9-a33e8a93fbc3"
      },
      "outputs": [
        {
          "output_type": "display_data",
          "data": {
            "text/plain": [
              "<Figure size 640x480 with 1 Axes>"
            ],
            "image/png": "[encoded data removed]"
          },
          "metadata": {}
        }
      ],
      "source": [
        "data['veil_type'].value_counts().sort_index().plot(kind = 'bar')\n",
        "plt.xticks(rotation = 0);"
      ]
    },
    {
      "cell_type": "raw",
      "id": "bb5e35e4",
      "metadata": {
        "id": "bb5e35e4"
      },
      "source": [
        "'veil_type' column represents that universal is common category."
      ]
    },
    {
      "cell_type": "code",
      "execution_count": 27,
      "id": "4101353f",
      "metadata": {
        "colab": {
          "base_uri": "https://localhost:8080/",
          "height": 450
        },
        "id": "4101353f",
        "outputId": "8032f54e-3397-4ea8-9a9a-398e9d5ba9ed"
      },
      "outputs": [
        {
          "output_type": "display_data",
          "data": {
            "text/plain": [
              "<Figure size 640x480 with 1 Axes>"
            ],
            "image/png": "[encoded data removed]"
          },
          "metadata": {}
        }
      ],
      "source": [
        "data['veil_color'].value_counts().sort_index().plot(kind = 'bar')\n",
        "plt.xticks(rotation = 0);"
      ]
    },
    {
      "cell_type": "raw",
      "id": "6edd357b",
      "metadata": {
        "id": "6edd357b"
      },
      "source": [
        "'veil_color' column represents that white has highest frequency."
      ]
    },
    {
      "cell_type": "code",
      "execution_count": 28,
      "id": "ffeb113c",
      "metadata": {
        "colab": {
          "base_uri": "https://localhost:8080/",
          "height": 450
        },
        "id": "ffeb113c",
        "outputId": "7e4634e8-be01-4fd9-9a60-53f7346a516a"
      },
      "outputs": [
        {
          "output_type": "display_data",
          "data": {
            "text/plain": [
              "<Figure size 640x480 with 1 Axes>"
            ],
            "image/png": "[encoded data removed]"
          },
          "metadata": {}
        }
      ],
      "source": [
        "data['ring_number'].value_counts().sort_index().plot(kind = 'bar')\n",
        "plt.xticks(rotation = 0);"
      ]
    },
    {
      "cell_type": "raw",
      "id": "541ba876",
      "metadata": {
        "id": "541ba876"
      },
      "source": [
        "'ring_number' column represents that none has highest frequency."
      ]
    },
    {
      "cell_type": "code",
      "execution_count": 29,
      "id": "ccff581f",
      "metadata": {
        "colab": {
          "base_uri": "https://localhost:8080/",
          "height": 696
        },
        "id": "ccff581f",
        "outputId": "87710b73-ddb6-4cee-98ee-f17ea864abd2"
      },
      "outputs": [
        {
          "output_type": "display_data",
          "data": {
            "text/plain": [
              "<Figure size 1200x800 with 1 Axes>"
            ],
            "image/png": "[encoded data removed]"
          },
          "metadata": {}
        }
      ],
      "source": [
        "plt.figure(figsize = (12,8))\n",
        "data['ring_type'].value_counts().sort_index().plot(kind = 'bar')\n",
        "plt.xticks(rotation = 0);"
      ]
    },
    {
      "cell_type": "raw",
      "id": "7bf737e8",
      "metadata": {
        "id": "7bf737e8"
      },
      "source": [
        "'ring_type' column represents that sheathing has highest frequency."
      ]
    },
    {
      "cell_type": "code",
      "execution_count": 30,
      "id": "3d1ef101",
      "metadata": {
        "colab": {
          "base_uri": "https://localhost:8080/",
          "height": 450
        },
        "id": "3d1ef101",
        "outputId": "11702900-fd20-4894-82f5-e6ebd2aa5218"
      },
      "outputs": [
        {
          "output_type": "display_data",
          "data": {
            "text/plain": [
              "<Figure size 640x480 with 1 Axes>"
            ],
            "image/png": "[encoded data removed]"
          },
          "metadata": {}
        }
      ],
      "source": [
        "data['spore_print_color'].value_counts().sort_index().plot(kind = 'bar')\n",
        "plt.xticks(rotation = 0);"
      ]
    },
    {
      "cell_type": "raw",
      "id": "8c412ce5",
      "metadata": {
        "id": "8c412ce5"
      },
      "source": [
        "'spore_print_color' column represents that brown, green and yellow are most common colors."
      ]
    },
    {
      "cell_type": "code",
      "execution_count": 31,
      "id": "9c9037c9",
      "metadata": {
        "colab": {
          "base_uri": "https://localhost:8080/",
          "height": 449
        },
        "id": "9c9037c9",
        "outputId": "7f32015e-5ad5-4e57-fd9d-c14f4a54cb67"
      },
      "outputs": [
        {
          "output_type": "display_data",
          "data": {
            "text/plain": [
              "<Figure size 640x480 with 1 Axes>"
            ],
            "image/png": "[encoded data removed]"
          },
          "metadata": {}
        }
      ],
      "source": [
        "data['population'].value_counts().sort_index().plot(kind = 'bar')\n",
        "plt.xticks(rotation = 0);"
      ]
    },
    {
      "cell_type": "raw",
      "id": "87630cd3",
      "metadata": {
        "id": "87630cd3"
      },
      "source": [
        "'population' column represents that abundant is common category."
      ]
    },
    {
      "cell_type": "code",
      "execution_count": 32,
      "id": "ee9aca42",
      "metadata": {
        "colab": {
          "base_uri": "https://localhost:8080/",
          "height": 453
        },
        "id": "ee9aca42",
        "outputId": "813298e9-e277-4e3b-88f5-2ae96d3f6644"
      },
      "outputs": [
        {
          "output_type": "display_data",
          "data": {
            "text/plain": [
              "<Figure size 640x480 with 1 Axes>"
            ],
            "image/png": "[encoded data removed]"
          },
          "metadata": {}
        }
      ],
      "source": [
        "data['habitat'].value_counts().sort_index().plot(kind = 'bar')\n",
        "plt.xticks(rotation = 0);"
      ]
    },
    {
      "cell_type": "raw",
      "id": "b75efcd7",
      "metadata": {
        "id": "b75efcd7"
      },
      "source": [
        "'habitat' column represents that paths and urban are most common categories."
      ]
    },
    {
      "cell_type": "code",
      "execution_count": 33,
      "id": "f7055b8f",
      "metadata": {
        "colab": {
          "base_uri": "https://localhost:8080/",
          "height": 449
        },
        "id": "f7055b8f",
        "outputId": "173e0e56-2d2b-472c-b4e9-933f5f377f72"
      },
      "outputs": [
        {
          "output_type": "display_data",
          "data": {
            "text/plain": [
              "<Figure size 640x480 with 1 Axes>"
            ],
            "image/png": "[encoded data removed]"
          },
          "metadata": {}
        }
      ],
      "source": [
        "data['class'].value_counts().sort_index().plot(kind = 'bar')\n",
        "plt.xticks(rotation = 0);"
      ]
    },
    {
      "cell_type": "raw",
      "id": "9bb58a58",
      "metadata": {
        "id": "9bb58a58"
      },
      "source": [
        "'class' column represents that poisonous mushroom are most common category and edible mushroom are less."
      ]
    },
    {
      "cell_type": "code",
      "execution_count": 34,
      "id": "88036d53",
      "metadata": {
        "colab": {
          "base_uri": "https://localhost:8080/",
          "height": 452
        },
        "id": "88036d53",
        "outputId": "d5a1ac7e-6065-49bf-d6dd-785bf021b617"
      },
      "outputs": [
        {
          "output_type": "display_data",
          "data": {
            "text/plain": [
              "<Figure size 640x480 with 1 Axes>"
            ],
            "image/png": "[encoded data removed]"
          },
          "metadata": {}
        }
      ],
      "source": [
        "plt.hist(data['stalk_height'], bins = 50)\n",
        "plt.title('Distribution of Stalk height');"
      ]
    },
    {
      "cell_type": "raw",
      "id": "a516195e",
      "metadata": {
        "id": "a516195e"
      },
      "source": [
        "'Stalk_height' column is normally distributed."
      ]
    },
    {
      "cell_type": "code",
      "execution_count": 35,
      "id": "d31dbbc2",
      "metadata": {
        "colab": {
          "base_uri": "https://localhost:8080/",
          "height": 452
        },
        "id": "d31dbbc2",
        "outputId": "1734f032-95bf-4590-9acb-8eb4cd705887"
      },
      "outputs": [
        {
          "output_type": "display_data",
          "data": {
            "text/plain": [
              "<Figure size 640x480 with 1 Axes>"
            ],
            "image/png": "[encoded data removed]"
          },
          "metadata": {}
        }
      ],
      "source": [
        "plt.hist(data['cap_diameter'], bins = 50)\n",
        "plt.title('Distribution of cap diameter');"
      ]
    },
    {
      "cell_type": "raw",
      "id": "1a45e6df",
      "metadata": {
        "id": "1a45e6df"
      },
      "source": [
        "'cap_diameter' column is normally distributed."
      ]
    },
    {
      "cell_type": "code",
      "execution_count": 36,
      "id": "eaf55b94",
      "metadata": {
        "colab": {
          "base_uri": "https://localhost:8080/",
          "height": 383
        },
        "id": "eaf55b94",
        "outputId": "b280e282-8655-4bfe-a904-d3c4ba9be0ea"
      },
      "outputs": [
        {
          "output_type": "error",
          "ename": "ModuleNotFoundError",
          "evalue": "No module named 'ppscore'",
          "traceback": [
            "\u001b[0;31m---------------------------------------------------------------------------\u001b[0m",
            "\u001b[0;31mModuleNotFoundError\u001b[0m                       Traceback (most recent call last)",
            "\u001b[0;32m/tmp/ipython-input-3615054112.py\u001b[0m in \u001b[0;36m<cell line: 0>\u001b[0;34m()\u001b[0m\n\u001b[0;32m----> 1\u001b[0;31m \u001b[0;32mimport\u001b[0m \u001b[0mppscore\u001b[0m \u001b[0;32mas\u001b[0m \u001b[0mpps\u001b[0m\u001b[0;34m\u001b[0m\u001b[0;34m\u001b[0m\u001b[0m\n\u001b[0m\u001b[1;32m      2\u001b[0m \u001b[0mpps_matrix\u001b[0m \u001b[0;34m=\u001b[0m \u001b[0mpps\u001b[0m\u001b[0;34m.\u001b[0m\u001b[0mmatrix\u001b[0m\u001b[0;34m(\u001b[0m\u001b[0mdata\u001b[0m\u001b[0;34m)\u001b[0m\u001b[0;34m[\u001b[0m\u001b[0;34m[\u001b[0m\u001b[0;34m'x'\u001b[0m\u001b[0;34m,\u001b[0m \u001b[0;34m'y'\u001b[0m\u001b[0;34m,\u001b[0m \u001b[0;34m'ppscore'\u001b[0m\u001b[0;34m]\u001b[0m\u001b[0;34m]\u001b[0m\u001b[0;34m\u001b[0m\u001b[0;34m\u001b[0m\u001b[0m\n\u001b[1;32m      3\u001b[0m \u001b[0;34m\u001b[0m\u001b[0m\n\u001b[1;32m      4\u001b[0m \u001b[0;31m# Pivot it into a heatmap-friendly format\u001b[0m\u001b[0;34m\u001b[0m\u001b[0;34m\u001b[0m\u001b[0m\n\u001b[1;32m      5\u001b[0m \u001b[0mpps_heatmap\u001b[0m \u001b[0;34m=\u001b[0m \u001b[0mpps_matrix\u001b[0m\u001b[0;34m.\u001b[0m\u001b[0mpivot\u001b[0m\u001b[0;34m(\u001b[0m\u001b[0mindex\u001b[0m\u001b[0;34m=\u001b[0m\u001b[0;34m'x'\u001b[0m\u001b[0;34m,\u001b[0m \u001b[0mcolumns\u001b[0m\u001b[0;34m=\u001b[0m\u001b[0;34m'y'\u001b[0m\u001b[0;34m,\u001b[0m \u001b[0mvalues\u001b[0m\u001b[0;34m=\u001b[0m\u001b[0;34m'ppscore'\u001b[0m\u001b[0;34m)\u001b[0m\u001b[0;34m\u001b[0m\u001b[0;34m\u001b[0m\u001b[0m\n",
            "\u001b[0;31mModuleNotFoundError\u001b[0m: No module named 'ppscore'",
            "",
            "\u001b[0;31m---------------------------------------------------------------------------\u001b[0;32m\nNOTE: If your import is failing due to a missing package, you can\nmanually install dependencies using either !pip or !apt.\n\nTo view examples of installing some common dependencies, click the\n\"Open Examples\" button below.\n\u001b[0;31m---------------------------------------------------------------------------\u001b[0m\n"
          ],
          "errorDetails": {
            "actions": [
              {
                "action": "open_url",
                "actionText": "Open Examples",
                "url": "/notebooks/snippets/importing_libraries.ipynb"
              }
            ]
          }
        }
      ],
      "source": [
        "import ppscore as pps\n",
        "pps_matrix = pps.matrix(data)[['x', 'y', 'ppscore']]\n",
        "\n",
        "# Pivot it into a heatmap-friendly format\n",
        "pps_heatmap = pps_matrix.pivot(index='x', columns='y', values='ppscore')"
      ]
    },
    {
      "cell_type": "code",
      "execution_count": null,
      "id": "776c5aa4",
      "metadata": {
        "id": "776c5aa4",
        "outputId": "cfc5b0f3-c447-4922-fcd1-06db727b853d"
      },
      "outputs": [
        {
          "data": {
            "text/html": [
              "<div>\n",
              "<style scoped>\n",
              "    .dataframe tbody tr th:only-of-type {\n",
              "        vertical-align: middle;\n",
              "    }\n",
              "\n",
              "    .dataframe tbody tr th {\n",
              "        vertical-align: top;\n",
              "    }\n",
              "\n",
              "    .dataframe thead th {\n",
              "        text-align: right;\n",
              "    }\n",
              "</style>\n",
              "<table border=\"1\" class=\"dataframe\">\n",
              "  <thead>\n",
              "    <tr style=\"text-align: right;\">\n",
              "      <th>y</th>\n",
              "      <th>bruises</th>\n",
              "      <th>cap_color</th>\n",
              "      <th>cap_diameter</th>\n",
              "      <th>cap_shape</th>\n",
              "      <th>cap_surface</th>\n",
              "      <th>class</th>\n",
              "      <th>gill_attachment</th>\n",
              "      <th>gill_color</th>\n",
              "      <th>gill_size</th>\n",
              "      <th>gill_spacing</th>\n",
              "      <th>...</th>\n",
              "      <th>spore_print_color</th>\n",
              "      <th>stalk_color_above_ring</th>\n",
              "      <th>stalk_color_below_ring</th>\n",
              "      <th>stalk_height</th>\n",
              "      <th>stalk_root</th>\n",
              "      <th>stalk_shape</th>\n",
              "      <th>stalk_surface_above_ring</th>\n",
              "      <th>stalk_surface_below_ring</th>\n",
              "      <th>veil_color</th>\n",
              "      <th>veil_type</th>\n",
              "    </tr>\n",
              "    <tr>\n",
              "      <th>x</th>\n",
              "      <th></th>\n",
              "      <th></th>\n",
              "      <th></th>\n",
              "      <th></th>\n",
              "      <th></th>\n",
              "      <th></th>\n",
              "      <th></th>\n",
              "      <th></th>\n",
              "      <th></th>\n",
              "      <th></th>\n",
              "      <th></th>\n",
              "      <th></th>\n",
              "      <th></th>\n",
              "      <th></th>\n",
              "      <th></th>\n",
              "      <th></th>\n",
              "      <th></th>\n",
              "      <th></th>\n",
              "      <th></th>\n",
              "      <th></th>\n",
              "      <th></th>\n",
              "    </tr>\n",
              "  </thead>\n",
              "  <tbody>\n",
              "    <tr>\n",
              "      <th>bruises</th>\n",
              "      <td>1.0</td>\n",
              "      <td>0.000000</td>\n",
              "      <td>0.000000</td>\n",
              "      <td>0.000000</td>\n",
              "      <td>0.0</td>\n",
              "      <td>0.0</td>\n",
              "      <td>0.000000</td>\n",
              "      <td>0.000000</td>\n",
              "      <td>0.000000</td>\n",
              "      <td>0.0</td>\n",
              "      <td>...</td>\n",
              "      <td>0.000000</td>\n",
              "      <td>0.0</td>\n",
              "      <td>0.0</td>\n",
              "      <td>0.001476</td>\n",
              "      <td>0.000000</td>\n",
              "      <td>0.000000</td>\n",
              "      <td>0.000000</td>\n",
              "      <td>0.000000</td>\n",
              "      <td>0.000000</td>\n",
              "      <td>0.000000</td>\n",
              "    </tr>\n",
              "    <tr>\n",
              "      <th>cap_color</th>\n",
              "      <td>0.0</td>\n",
              "      <td>1.000000</td>\n",
              "      <td>0.001966</td>\n",
              "      <td>0.000000</td>\n",
              "      <td>0.0</td>\n",
              "      <td>0.0</td>\n",
              "      <td>0.000000</td>\n",
              "      <td>0.000000</td>\n",
              "      <td>0.055922</td>\n",
              "      <td>0.0</td>\n",
              "      <td>...</td>\n",
              "      <td>0.010197</td>\n",
              "      <td>0.0</td>\n",
              "      <td>0.0</td>\n",
              "      <td>0.000000</td>\n",
              "      <td>0.000000</td>\n",
              "      <td>0.000000</td>\n",
              "      <td>0.055568</td>\n",
              "      <td>0.000000</td>\n",
              "      <td>0.016516</td>\n",
              "      <td>0.000000</td>\n",
              "    </tr>\n",
              "    <tr>\n",
              "      <th>cap_diameter</th>\n",
              "      <td>0.0</td>\n",
              "      <td>0.025808</td>\n",
              "      <td>1.000000</td>\n",
              "      <td>0.035645</td>\n",
              "      <td>0.0</td>\n",
              "      <td>0.0</td>\n",
              "      <td>0.028625</td>\n",
              "      <td>0.018089</td>\n",
              "      <td>0.000000</td>\n",
              "      <td>0.0</td>\n",
              "      <td>...</td>\n",
              "      <td>0.000000</td>\n",
              "      <td>0.0</td>\n",
              "      <td>0.0</td>\n",
              "      <td>0.000000</td>\n",
              "      <td>0.046176</td>\n",
              "      <td>0.023045</td>\n",
              "      <td>0.026349</td>\n",
              "      <td>0.009373</td>\n",
              "      <td>0.000000</td>\n",
              "      <td>0.009156</td>\n",
              "    </tr>\n",
              "    <tr>\n",
              "      <th>cap_shape</th>\n",
              "      <td>0.0</td>\n",
              "      <td>0.000000</td>\n",
              "      <td>0.000192</td>\n",
              "      <td>1.000000</td>\n",
              "      <td>0.0</td>\n",
              "      <td>0.0</td>\n",
              "      <td>0.000000</td>\n",
              "      <td>0.000000</td>\n",
              "      <td>0.000000</td>\n",
              "      <td>0.0</td>\n",
              "      <td>...</td>\n",
              "      <td>0.000000</td>\n",
              "      <td>0.0</td>\n",
              "      <td>0.0</td>\n",
              "      <td>0.000000</td>\n",
              "      <td>0.000000</td>\n",
              "      <td>0.000000</td>\n",
              "      <td>0.000000</td>\n",
              "      <td>0.000000</td>\n",
              "      <td>0.000000</td>\n",
              "      <td>0.000000</td>\n",
              "    </tr>\n",
              "    <tr>\n",
              "      <th>cap_surface</th>\n",
              "      <td>0.0</td>\n",
              "      <td>0.000000</td>\n",
              "      <td>0.000000</td>\n",
              "      <td>0.000000</td>\n",
              "      <td>1.0</td>\n",
              "      <td>0.0</td>\n",
              "      <td>0.000000</td>\n",
              "      <td>0.000000</td>\n",
              "      <td>0.000000</td>\n",
              "      <td>0.0</td>\n",
              "      <td>...</td>\n",
              "      <td>0.000000</td>\n",
              "      <td>0.0</td>\n",
              "      <td>0.0</td>\n",
              "      <td>0.000000</td>\n",
              "      <td>0.000000</td>\n",
              "      <td>0.000000</td>\n",
              "      <td>0.000000</td>\n",
              "      <td>0.000000</td>\n",
              "      <td>0.000000</td>\n",
              "      <td>0.000000</td>\n",
              "    </tr>\n",
              "  </tbody>\n",
              "</table>\n",
              "<p>5 rows × 25 columns</p>\n",
              "</div>"
            ],
            "text/plain": [
              "y             bruises  cap_color  cap_diameter  cap_shape  cap_surface  class  \\\n",
              "x                                                                               \n",
              "bruises           1.0   0.000000      0.000000   0.000000          0.0    0.0   \n",
              "cap_color         0.0   1.000000      0.001966   0.000000          0.0    0.0   \n",
              "cap_diameter      0.0   0.025808      1.000000   0.035645          0.0    0.0   \n",
              "cap_shape         0.0   0.000000      0.000192   1.000000          0.0    0.0   \n",
              "cap_surface       0.0   0.000000      0.000000   0.000000          1.0    0.0   \n",
              "\n",
              "y             gill_attachment  gill_color  gill_size  gill_spacing  ...  \\\n",
              "x                                                                   ...   \n",
              "bruises              0.000000    0.000000   0.000000           0.0  ...   \n",
              "cap_color            0.000000    0.000000   0.055922           0.0  ...   \n",
              "cap_diameter         0.028625    0.018089   0.000000           0.0  ...   \n",
              "cap_shape            0.000000    0.000000   0.000000           0.0  ...   \n",
              "cap_surface          0.000000    0.000000   0.000000           0.0  ...   \n",
              "\n",
              "y             spore_print_color  stalk_color_above_ring  \\\n",
              "x                                                         \n",
              "bruises                0.000000                     0.0   \n",
              "cap_color              0.010197                     0.0   \n",
              "cap_diameter           0.000000                     0.0   \n",
              "cap_shape              0.000000                     0.0   \n",
              "cap_surface            0.000000                     0.0   \n",
              "\n",
              "y             stalk_color_below_ring  stalk_height  stalk_root  stalk_shape  \\\n",
              "x                                                                             \n",
              "bruises                          0.0      0.001476    0.000000     0.000000   \n",
              "cap_color                        0.0      0.000000    0.000000     0.000000   \n",
              "cap_diameter                     0.0      0.000000    0.046176     0.023045   \n",
              "cap_shape                        0.0      0.000000    0.000000     0.000000   \n",
              "cap_surface                      0.0      0.000000    0.000000     0.000000   \n",
              "\n",
              "y             stalk_surface_above_ring  stalk_surface_below_ring  veil_color  \\\n",
              "x                                                                              \n",
              "bruises                       0.000000                  0.000000    0.000000   \n",
              "cap_color                     0.055568                  0.000000    0.016516   \n",
              "cap_diameter                  0.026349                  0.009373    0.000000   \n",
              "cap_shape                     0.000000                  0.000000    0.000000   \n",
              "cap_surface                   0.000000                  0.000000    0.000000   \n",
              "\n",
              "y             veil_type  \n",
              "x                        \n",
              "bruises        0.000000  \n",
              "cap_color      0.000000  \n",
              "cap_diameter   0.009156  \n",
              "cap_shape      0.000000  \n",
              "cap_surface    0.000000  \n",
              "\n",
              "[5 rows x 25 columns]"
            ]
          },
          "execution_count": 37,
          "metadata": {},
          "output_type": "execute_result"
        }
      ],
      "source": [
        "pps_heatmap.head()"
      ]
    },
    {
      "cell_type": "code",
      "execution_count": null,
      "id": "dd775f87",
      "metadata": {
        "id": "dd775f87"
      },
      "outputs": [],
      "source": [
        "# Plot the heatmap\n",
        "plt.figure(figsize=(26,10))\n",
        "sns.heatmap(pps_heatmap, annot=True, cmap='viridis', fmt = '.4f')\n",
        "plt.title('PPS Matrix (Predictive Power Score Heatmap)');"
      ]
    },
    {
      "cell_type": "raw",
      "id": "daa6cbc0",
      "metadata": {
        "id": "daa6cbc0"
      },
      "source": [
        "Above heatmap represents no strong or moderate relationship between features."
      ]
    },
    {
      "cell_type": "markdown",
      "id": "5697b5b5",
      "metadata": {
        "id": "5697b5b5"
      },
      "source": [
        "### Encoding"
      ]
    },
    {
      "cell_type": "code",
      "execution_count": null,
      "id": "6635f00c",
      "metadata": {
        "id": "6635f00c",
        "outputId": "04a1e07d-724a-4a18-9fcf-9cfc786fc3ef"
      },
      "outputs": [
        {
          "data": {
            "text/plain": [
              "cap_shape                    object\n",
              "cap_surface                  object\n",
              "cap_color                    object\n",
              "bruises                      object\n",
              "odor                         object\n",
              "gill_attachment              object\n",
              "gill_spacing                 object\n",
              "gill_size                    object\n",
              "gill_color                   object\n",
              "stalk_shape                  object\n",
              "stalk_root                   object\n",
              "stalk_surface_above_ring     object\n",
              "stalk_surface_below_ring     object\n",
              "stalk_color_above_ring       object\n",
              "stalk_color_below_ring       object\n",
              "veil_type                    object\n",
              "veil_color                   object\n",
              "ring_number                  object\n",
              "ring_type                    object\n",
              "spore_print_color            object\n",
              "population                   object\n",
              "habitat                      object\n",
              "class                        object\n",
              "stalk_height                float64\n",
              "cap_diameter                float64\n",
              "dtype: object"
            ]
          },
          "execution_count": 39,
          "metadata": {},
          "output_type": "execute_result"
        }
      ],
      "source": [
        "data.dtypes"
      ]
    },
    {
      "cell_type": "code",
      "execution_count": null,
      "id": "0ae12156",
      "metadata": {
        "id": "0ae12156"
      },
      "outputs": [],
      "source": [
        "encode_col = data.drop(['stalk_height', 'cap_diameter', 'class'], axis=1).columns\n",
        "encoded_data = pd.get_dummies(data[encode_col], drop_first=True).astype(int)\n",
        "data = data.drop(encode_col, axis=1).join(encoded_data)"
      ]
    },
    {
      "cell_type": "code",
      "execution_count": null,
      "id": "658bc8eb",
      "metadata": {
        "id": "658bc8eb",
        "outputId": "640e413c-dd41-409c-b15b-794f3cdc2728"
      },
      "outputs": [
        {
          "data": {
            "text/html": [
              "<div>\n",
              "<style scoped>\n",
              "    .dataframe tbody tr th:only-of-type {\n",
              "        vertical-align: middle;\n",
              "    }\n",
              "\n",
              "    .dataframe tbody tr th {\n",
              "        vertical-align: top;\n",
              "    }\n",
              "\n",
              "    .dataframe thead th {\n",
              "        text-align: right;\n",
              "    }\n",
              "</style>\n",
              "<table border=\"1\" class=\"dataframe\">\n",
              "  <thead>\n",
              "    <tr style=\"text-align: right;\">\n",
              "      <th></th>\n",
              "      <th>class</th>\n",
              "      <th>stalk_height</th>\n",
              "      <th>cap_diameter</th>\n",
              "      <th>cap_shape_conical</th>\n",
              "      <th>cap_shape_convex</th>\n",
              "      <th>cap_shape_flat</th>\n",
              "      <th>cap_shape_sunken</th>\n",
              "      <th>cap_surface_grooves</th>\n",
              "      <th>cap_surface_scaly</th>\n",
              "      <th>cap_surface_smooth</th>\n",
              "      <th>...</th>\n",
              "      <th>population_numerous</th>\n",
              "      <th>population_scattered</th>\n",
              "      <th>population_several</th>\n",
              "      <th>population_solitary</th>\n",
              "      <th>habitat_leaves</th>\n",
              "      <th>habitat_meadows</th>\n",
              "      <th>habitat_paths</th>\n",
              "      <th>habitat_urban</th>\n",
              "      <th>habitat_waste</th>\n",
              "      <th>habitat_woods</th>\n",
              "    </tr>\n",
              "  </thead>\n",
              "  <tbody>\n",
              "    <tr>\n",
              "      <th>0</th>\n",
              "      <td>poisonous</td>\n",
              "      <td>14.276173</td>\n",
              "      <td>5.054983</td>\n",
              "      <td>0</td>\n",
              "      <td>0</td>\n",
              "      <td>0</td>\n",
              "      <td>1</td>\n",
              "      <td>0</td>\n",
              "      <td>1</td>\n",
              "      <td>0</td>\n",
              "      <td>...</td>\n",
              "      <td>0</td>\n",
              "      <td>0</td>\n",
              "      <td>0</td>\n",
              "      <td>0</td>\n",
              "      <td>0</td>\n",
              "      <td>0</td>\n",
              "      <td>0</td>\n",
              "      <td>0</td>\n",
              "      <td>1</td>\n",
              "      <td>0</td>\n",
              "    </tr>\n",
              "    <tr>\n",
              "      <th>1</th>\n",
              "      <td>edible</td>\n",
              "      <td>3.952715</td>\n",
              "      <td>19.068319</td>\n",
              "      <td>0</td>\n",
              "      <td>0</td>\n",
              "      <td>0</td>\n",
              "      <td>1</td>\n",
              "      <td>0</td>\n",
              "      <td>0</td>\n",
              "      <td>0</td>\n",
              "      <td>...</td>\n",
              "      <td>1</td>\n",
              "      <td>0</td>\n",
              "      <td>0</td>\n",
              "      <td>0</td>\n",
              "      <td>0</td>\n",
              "      <td>0</td>\n",
              "      <td>0</td>\n",
              "      <td>0</td>\n",
              "      <td>1</td>\n",
              "      <td>0</td>\n",
              "    </tr>\n",
              "    <tr>\n",
              "      <th>2</th>\n",
              "      <td>poisonous</td>\n",
              "      <td>9.054265</td>\n",
              "      <td>7.205884</td>\n",
              "      <td>0</td>\n",
              "      <td>0</td>\n",
              "      <td>1</td>\n",
              "      <td>0</td>\n",
              "      <td>1</td>\n",
              "      <td>0</td>\n",
              "      <td>0</td>\n",
              "      <td>...</td>\n",
              "      <td>0</td>\n",
              "      <td>0</td>\n",
              "      <td>0</td>\n",
              "      <td>0</td>\n",
              "      <td>0</td>\n",
              "      <td>0</td>\n",
              "      <td>0</td>\n",
              "      <td>0</td>\n",
              "      <td>1</td>\n",
              "      <td>0</td>\n",
              "    </tr>\n",
              "    <tr>\n",
              "      <th>3</th>\n",
              "      <td>poisonous</td>\n",
              "      <td>5.226499</td>\n",
              "      <td>20.932692</td>\n",
              "      <td>0</td>\n",
              "      <td>0</td>\n",
              "      <td>0</td>\n",
              "      <td>0</td>\n",
              "      <td>0</td>\n",
              "      <td>1</td>\n",
              "      <td>0</td>\n",
              "      <td>...</td>\n",
              "      <td>0</td>\n",
              "      <td>0</td>\n",
              "      <td>0</td>\n",
              "      <td>0</td>\n",
              "      <td>0</td>\n",
              "      <td>0</td>\n",
              "      <td>0</td>\n",
              "      <td>0</td>\n",
              "      <td>0</td>\n",
              "      <td>0</td>\n",
              "    </tr>\n",
              "    <tr>\n",
              "      <th>4</th>\n",
              "      <td>poisonous</td>\n",
              "      <td>14.037532</td>\n",
              "      <td>12.545245</td>\n",
              "      <td>0</td>\n",
              "      <td>0</td>\n",
              "      <td>1</td>\n",
              "      <td>0</td>\n",
              "      <td>0</td>\n",
              "      <td>0</td>\n",
              "      <td>1</td>\n",
              "      <td>...</td>\n",
              "      <td>0</td>\n",
              "      <td>0</td>\n",
              "      <td>0</td>\n",
              "      <td>0</td>\n",
              "      <td>0</td>\n",
              "      <td>0</td>\n",
              "      <td>0</td>\n",
              "      <td>1</td>\n",
              "      <td>0</td>\n",
              "      <td>0</td>\n",
              "    </tr>\n",
              "    <tr>\n",
              "      <th>...</th>\n",
              "      <td>...</td>\n",
              "      <td>...</td>\n",
              "      <td>...</td>\n",
              "      <td>...</td>\n",
              "      <td>...</td>\n",
              "      <td>...</td>\n",
              "      <td>...</td>\n",
              "      <td>...</td>\n",
              "      <td>...</td>\n",
              "      <td>...</td>\n",
              "      <td>...</td>\n",
              "      <td>...</td>\n",
              "      <td>...</td>\n",
              "      <td>...</td>\n",
              "      <td>...</td>\n",
              "      <td>...</td>\n",
              "      <td>...</td>\n",
              "      <td>...</td>\n",
              "      <td>...</td>\n",
              "      <td>...</td>\n",
              "      <td>...</td>\n",
              "    </tr>\n",
              "    <tr>\n",
              "      <th>971</th>\n",
              "      <td>edible</td>\n",
              "      <td>13.020616</td>\n",
              "      <td>9.993008</td>\n",
              "      <td>1</td>\n",
              "      <td>0</td>\n",
              "      <td>0</td>\n",
              "      <td>0</td>\n",
              "      <td>1</td>\n",
              "      <td>0</td>\n",
              "      <td>0</td>\n",
              "      <td>...</td>\n",
              "      <td>1</td>\n",
              "      <td>0</td>\n",
              "      <td>0</td>\n",
              "      <td>0</td>\n",
              "      <td>0</td>\n",
              "      <td>0</td>\n",
              "      <td>1</td>\n",
              "      <td>0</td>\n",
              "      <td>0</td>\n",
              "      <td>0</td>\n",
              "    </tr>\n",
              "    <tr>\n",
              "      <th>972</th>\n",
              "      <td>poisonous</td>\n",
              "      <td>3.751597</td>\n",
              "      <td>18.868135</td>\n",
              "      <td>0</td>\n",
              "      <td>0</td>\n",
              "      <td>0</td>\n",
              "      <td>0</td>\n",
              "      <td>1</td>\n",
              "      <td>0</td>\n",
              "      <td>0</td>\n",
              "      <td>...</td>\n",
              "      <td>1</td>\n",
              "      <td>0</td>\n",
              "      <td>0</td>\n",
              "      <td>0</td>\n",
              "      <td>0</td>\n",
              "      <td>0</td>\n",
              "      <td>0</td>\n",
              "      <td>0</td>\n",
              "      <td>0</td>\n",
              "      <td>0</td>\n",
              "    </tr>\n",
              "    <tr>\n",
              "      <th>973</th>\n",
              "      <td>edible</td>\n",
              "      <td>13.134058</td>\n",
              "      <td>15.740028</td>\n",
              "      <td>0</td>\n",
              "      <td>0</td>\n",
              "      <td>0</td>\n",
              "      <td>1</td>\n",
              "      <td>0</td>\n",
              "      <td>0</td>\n",
              "      <td>1</td>\n",
              "      <td>...</td>\n",
              "      <td>0</td>\n",
              "      <td>0</td>\n",
              "      <td>0</td>\n",
              "      <td>0</td>\n",
              "      <td>0</td>\n",
              "      <td>0</td>\n",
              "      <td>0</td>\n",
              "      <td>0</td>\n",
              "      <td>0</td>\n",
              "      <td>0</td>\n",
              "    </tr>\n",
              "    <tr>\n",
              "      <th>974</th>\n",
              "      <td>poisonous</td>\n",
              "      <td>6.500840</td>\n",
              "      <td>13.501957</td>\n",
              "      <td>0</td>\n",
              "      <td>0</td>\n",
              "      <td>0</td>\n",
              "      <td>1</td>\n",
              "      <td>0</td>\n",
              "      <td>1</td>\n",
              "      <td>0</td>\n",
              "      <td>...</td>\n",
              "      <td>1</td>\n",
              "      <td>0</td>\n",
              "      <td>0</td>\n",
              "      <td>0</td>\n",
              "      <td>0</td>\n",
              "      <td>0</td>\n",
              "      <td>0</td>\n",
              "      <td>0</td>\n",
              "      <td>1</td>\n",
              "      <td>0</td>\n",
              "    </tr>\n",
              "    <tr>\n",
              "      <th>975</th>\n",
              "      <td>poisonous</td>\n",
              "      <td>13.066414</td>\n",
              "      <td>21.056642</td>\n",
              "      <td>0</td>\n",
              "      <td>1</td>\n",
              "      <td>0</td>\n",
              "      <td>0</td>\n",
              "      <td>0</td>\n",
              "      <td>1</td>\n",
              "      <td>0</td>\n",
              "      <td>...</td>\n",
              "      <td>1</td>\n",
              "      <td>0</td>\n",
              "      <td>0</td>\n",
              "      <td>0</td>\n",
              "      <td>0</td>\n",
              "      <td>0</td>\n",
              "      <td>0</td>\n",
              "      <td>1</td>\n",
              "      <td>0</td>\n",
              "      <td>0</td>\n",
              "    </tr>\n",
              "  </tbody>\n",
              "</table>\n",
              "<p>976 rows × 105 columns</p>\n",
              "</div>"
            ],
            "text/plain": [
              "         class  stalk_height  cap_diameter  cap_shape_conical  \\\n",
              "0    poisonous     14.276173      5.054983                  0   \n",
              "1       edible      3.952715     19.068319                  0   \n",
              "2    poisonous      9.054265      7.205884                  0   \n",
              "3    poisonous      5.226499     20.932692                  0   \n",
              "4    poisonous     14.037532     12.545245                  0   \n",
              "..         ...           ...           ...                ...   \n",
              "971     edible     13.020616      9.993008                  1   \n",
              "972  poisonous      3.751597     18.868135                  0   \n",
              "973     edible     13.134058     15.740028                  0   \n",
              "974  poisonous      6.500840     13.501957                  0   \n",
              "975  poisonous     13.066414     21.056642                  0   \n",
              "\n",
              "     cap_shape_convex  cap_shape_flat  cap_shape_sunken  cap_surface_grooves  \\\n",
              "0                   0               0                 1                    0   \n",
              "1                   0               0                 1                    0   \n",
              "2                   0               1                 0                    1   \n",
              "3                   0               0                 0                    0   \n",
              "4                   0               1                 0                    0   \n",
              "..                ...             ...               ...                  ...   \n",
              "971                 0               0                 0                    1   \n",
              "972                 0               0                 0                    1   \n",
              "973                 0               0                 1                    0   \n",
              "974                 0               0                 1                    0   \n",
              "975                 1               0                 0                    0   \n",
              "\n",
              "     cap_surface_scaly  cap_surface_smooth  ...  population_numerous  \\\n",
              "0                    1                   0  ...                    0   \n",
              "1                    0                   0  ...                    1   \n",
              "2                    0                   0  ...                    0   \n",
              "3                    1                   0  ...                    0   \n",
              "4                    0                   1  ...                    0   \n",
              "..                 ...                 ...  ...                  ...   \n",
              "971                  0                   0  ...                    1   \n",
              "972                  0                   0  ...                    1   \n",
              "973                  0                   1  ...                    0   \n",
              "974                  1                   0  ...                    1   \n",
              "975                  1                   0  ...                    1   \n",
              "\n",
              "     population_scattered  population_several  population_solitary  \\\n",
              "0                       0                   0                    0   \n",
              "1                       0                   0                    0   \n",
              "2                       0                   0                    0   \n",
              "3                       0                   0                    0   \n",
              "4                       0                   0                    0   \n",
              "..                    ...                 ...                  ...   \n",
              "971                     0                   0                    0   \n",
              "972                     0                   0                    0   \n",
              "973                     0                   0                    0   \n",
              "974                     0                   0                    0   \n",
              "975                     0                   0                    0   \n",
              "\n",
              "     habitat_leaves  habitat_meadows  habitat_paths  habitat_urban  \\\n",
              "0                 0                0              0              0   \n",
              "1                 0                0              0              0   \n",
              "2                 0                0              0              0   \n",
              "3                 0                0              0              0   \n",
              "4                 0                0              0              1   \n",
              "..              ...              ...            ...            ...   \n",
              "971               0                0              1              0   \n",
              "972               0                0              0              0   \n",
              "973               0                0              0              0   \n",
              "974               0                0              0              0   \n",
              "975               0                0              0              1   \n",
              "\n",
              "     habitat_waste  habitat_woods  \n",
              "0                1              0  \n",
              "1                1              0  \n",
              "2                1              0  \n",
              "3                0              0  \n",
              "4                0              0  \n",
              "..             ...            ...  \n",
              "971              0              0  \n",
              "972              0              0  \n",
              "973              0              0  \n",
              "974              1              0  \n",
              "975              0              0  \n",
              "\n",
              "[976 rows x 105 columns]"
            ]
          },
          "execution_count": 41,
          "metadata": {},
          "output_type": "execute_result"
        }
      ],
      "source": [
        "data"
      ]
    },
    {
      "cell_type": "code",
      "execution_count": null,
      "id": "11b42555",
      "metadata": {
        "id": "11b42555"
      },
      "outputs": [],
      "source": [
        "sc = StandardScaler()\n",
        "data[['stalk_height', 'cap_diameter']] = sc.fit_transform(data[['stalk_height', 'cap_diameter']])"
      ]
    },
    {
      "cell_type": "code",
      "execution_count": null,
      "id": "5ba1f1ca",
      "metadata": {
        "id": "5ba1f1ca",
        "outputId": "7b8421d3-ac0f-4c8a-ee13-eb2bf93e9ef8"
      },
      "outputs": [
        {
          "data": {
            "text/html": [
              "<div>\n",
              "<style scoped>\n",
              "    .dataframe tbody tr th:only-of-type {\n",
              "        vertical-align: middle;\n",
              "    }\n",
              "\n",
              "    .dataframe tbody tr th {\n",
              "        vertical-align: top;\n",
              "    }\n",
              "\n",
              "    .dataframe thead th {\n",
              "        text-align: right;\n",
              "    }\n",
              "</style>\n",
              "<table border=\"1\" class=\"dataframe\">\n",
              "  <thead>\n",
              "    <tr style=\"text-align: right;\">\n",
              "      <th></th>\n",
              "      <th>class</th>\n",
              "      <th>stalk_height</th>\n",
              "      <th>cap_diameter</th>\n",
              "      <th>cap_shape_conical</th>\n",
              "      <th>cap_shape_convex</th>\n",
              "      <th>cap_shape_flat</th>\n",
              "      <th>cap_shape_sunken</th>\n",
              "      <th>cap_surface_grooves</th>\n",
              "      <th>cap_surface_scaly</th>\n",
              "      <th>cap_surface_smooth</th>\n",
              "      <th>...</th>\n",
              "      <th>population_numerous</th>\n",
              "      <th>population_scattered</th>\n",
              "      <th>population_several</th>\n",
              "      <th>population_solitary</th>\n",
              "      <th>habitat_leaves</th>\n",
              "      <th>habitat_meadows</th>\n",
              "      <th>habitat_paths</th>\n",
              "      <th>habitat_urban</th>\n",
              "      <th>habitat_waste</th>\n",
              "      <th>habitat_woods</th>\n",
              "    </tr>\n",
              "  </thead>\n",
              "  <tbody>\n",
              "    <tr>\n",
              "      <th>0</th>\n",
              "      <td>poisonous</td>\n",
              "      <td>1.553976</td>\n",
              "      <td>-1.080201</td>\n",
              "      <td>0</td>\n",
              "      <td>0</td>\n",
              "      <td>0</td>\n",
              "      <td>1</td>\n",
              "      <td>0</td>\n",
              "      <td>1</td>\n",
              "      <td>0</td>\n",
              "      <td>...</td>\n",
              "      <td>0</td>\n",
              "      <td>0</td>\n",
              "      <td>0</td>\n",
              "      <td>0</td>\n",
              "      <td>0</td>\n",
              "      <td>0</td>\n",
              "      <td>0</td>\n",
              "      <td>0</td>\n",
              "      <td>1</td>\n",
              "      <td>0</td>\n",
              "    </tr>\n",
              "    <tr>\n",
              "      <th>1</th>\n",
              "      <td>edible</td>\n",
              "      <td>-1.235285</td>\n",
              "      <td>0.926435</td>\n",
              "      <td>0</td>\n",
              "      <td>0</td>\n",
              "      <td>0</td>\n",
              "      <td>1</td>\n",
              "      <td>0</td>\n",
              "      <td>0</td>\n",
              "      <td>0</td>\n",
              "      <td>...</td>\n",
              "      <td>1</td>\n",
              "      <td>0</td>\n",
              "      <td>0</td>\n",
              "      <td>0</td>\n",
              "      <td>0</td>\n",
              "      <td>0</td>\n",
              "      <td>0</td>\n",
              "      <td>0</td>\n",
              "      <td>1</td>\n",
              "      <td>0</td>\n",
              "    </tr>\n",
              "    <tr>\n",
              "      <th>2</th>\n",
              "      <td>poisonous</td>\n",
              "      <td>0.143086</td>\n",
              "      <td>-0.772204</td>\n",
              "      <td>0</td>\n",
              "      <td>0</td>\n",
              "      <td>1</td>\n",
              "      <td>0</td>\n",
              "      <td>1</td>\n",
              "      <td>0</td>\n",
              "      <td>0</td>\n",
              "      <td>...</td>\n",
              "      <td>0</td>\n",
              "      <td>0</td>\n",
              "      <td>0</td>\n",
              "      <td>0</td>\n",
              "      <td>0</td>\n",
              "      <td>0</td>\n",
              "      <td>0</td>\n",
              "      <td>0</td>\n",
              "      <td>1</td>\n",
              "      <td>0</td>\n",
              "    </tr>\n",
              "    <tr>\n",
              "      <th>3</th>\n",
              "      <td>poisonous</td>\n",
              "      <td>-0.891126</td>\n",
              "      <td>1.193403</td>\n",
              "      <td>0</td>\n",
              "      <td>0</td>\n",
              "      <td>0</td>\n",
              "      <td>0</td>\n",
              "      <td>0</td>\n",
              "      <td>1</td>\n",
              "      <td>0</td>\n",
              "      <td>...</td>\n",
              "      <td>0</td>\n",
              "      <td>0</td>\n",
              "      <td>0</td>\n",
              "      <td>0</td>\n",
              "      <td>0</td>\n",
              "      <td>0</td>\n",
              "      <td>0</td>\n",
              "      <td>0</td>\n",
              "      <td>0</td>\n",
              "      <td>0</td>\n",
              "    </tr>\n",
              "    <tr>\n",
              "      <th>4</th>\n",
              "      <td>poisonous</td>\n",
              "      <td>1.489498</td>\n",
              "      <td>-0.007635</td>\n",
              "      <td>0</td>\n",
              "      <td>0</td>\n",
              "      <td>1</td>\n",
              "      <td>0</td>\n",
              "      <td>0</td>\n",
              "      <td>0</td>\n",
              "      <td>1</td>\n",
              "      <td>...</td>\n",
              "      <td>0</td>\n",
              "      <td>0</td>\n",
              "      <td>0</td>\n",
              "      <td>0</td>\n",
              "      <td>0</td>\n",
              "      <td>0</td>\n",
              "      <td>0</td>\n",
              "      <td>1</td>\n",
              "      <td>0</td>\n",
              "      <td>0</td>\n",
              "    </tr>\n",
              "    <tr>\n",
              "      <th>...</th>\n",
              "      <td>...</td>\n",
              "      <td>...</td>\n",
              "      <td>...</td>\n",
              "      <td>...</td>\n",
              "      <td>...</td>\n",
              "      <td>...</td>\n",
              "      <td>...</td>\n",
              "      <td>...</td>\n",
              "      <td>...</td>\n",
              "      <td>...</td>\n",
              "      <td>...</td>\n",
              "      <td>...</td>\n",
              "      <td>...</td>\n",
              "      <td>...</td>\n",
              "      <td>...</td>\n",
              "      <td>...</td>\n",
              "      <td>...</td>\n",
              "      <td>...</td>\n",
              "      <td>...</td>\n",
              "      <td>...</td>\n",
              "      <td>...</td>\n",
              "    </tr>\n",
              "    <tr>\n",
              "      <th>971</th>\n",
              "      <td>edible</td>\n",
              "      <td>1.214741</td>\n",
              "      <td>-0.373102</td>\n",
              "      <td>1</td>\n",
              "      <td>0</td>\n",
              "      <td>0</td>\n",
              "      <td>0</td>\n",
              "      <td>1</td>\n",
              "      <td>0</td>\n",
              "      <td>0</td>\n",
              "      <td>...</td>\n",
              "      <td>1</td>\n",
              "      <td>0</td>\n",
              "      <td>0</td>\n",
              "      <td>0</td>\n",
              "      <td>0</td>\n",
              "      <td>0</td>\n",
              "      <td>1</td>\n",
              "      <td>0</td>\n",
              "      <td>0</td>\n",
              "      <td>0</td>\n",
              "    </tr>\n",
              "    <tr>\n",
              "      <th>972</th>\n",
              "      <td>poisonous</td>\n",
              "      <td>-1.289624</td>\n",
              "      <td>0.897769</td>\n",
              "      <td>0</td>\n",
              "      <td>0</td>\n",
              "      <td>0</td>\n",
              "      <td>0</td>\n",
              "      <td>1</td>\n",
              "      <td>0</td>\n",
              "      <td>0</td>\n",
              "      <td>...</td>\n",
              "      <td>1</td>\n",
              "      <td>0</td>\n",
              "      <td>0</td>\n",
              "      <td>0</td>\n",
              "      <td>0</td>\n",
              "      <td>0</td>\n",
              "      <td>0</td>\n",
              "      <td>0</td>\n",
              "      <td>0</td>\n",
              "      <td>0</td>\n",
              "    </tr>\n",
              "    <tr>\n",
              "      <th>973</th>\n",
              "      <td>edible</td>\n",
              "      <td>1.245391</td>\n",
              "      <td>0.449841</td>\n",
              "      <td>0</td>\n",
              "      <td>0</td>\n",
              "      <td>0</td>\n",
              "      <td>1</td>\n",
              "      <td>0</td>\n",
              "      <td>0</td>\n",
              "      <td>1</td>\n",
              "      <td>...</td>\n",
              "      <td>0</td>\n",
              "      <td>0</td>\n",
              "      <td>0</td>\n",
              "      <td>0</td>\n",
              "      <td>0</td>\n",
              "      <td>0</td>\n",
              "      <td>0</td>\n",
              "      <td>0</td>\n",
              "      <td>0</td>\n",
              "      <td>0</td>\n",
              "    </tr>\n",
              "    <tr>\n",
              "      <th>974</th>\n",
              "      <td>poisonous</td>\n",
              "      <td>-0.546816</td>\n",
              "      <td>0.129361</td>\n",
              "      <td>0</td>\n",
              "      <td>0</td>\n",
              "      <td>0</td>\n",
              "      <td>1</td>\n",
              "      <td>0</td>\n",
              "      <td>1</td>\n",
              "      <td>0</td>\n",
              "      <td>...</td>\n",
              "      <td>1</td>\n",
              "      <td>0</td>\n",
              "      <td>0</td>\n",
              "      <td>0</td>\n",
              "      <td>0</td>\n",
              "      <td>0</td>\n",
              "      <td>0</td>\n",
              "      <td>0</td>\n",
              "      <td>1</td>\n",
              "      <td>0</td>\n",
              "    </tr>\n",
              "    <tr>\n",
              "      <th>975</th>\n",
              "      <td>poisonous</td>\n",
              "      <td>1.227115</td>\n",
              "      <td>1.211152</td>\n",
              "      <td>0</td>\n",
              "      <td>1</td>\n",
              "      <td>0</td>\n",
              "      <td>0</td>\n",
              "      <td>0</td>\n",
              "      <td>1</td>\n",
              "      <td>0</td>\n",
              "      <td>...</td>\n",
              "      <td>1</td>\n",
              "      <td>0</td>\n",
              "      <td>0</td>\n",
              "      <td>0</td>\n",
              "      <td>0</td>\n",
              "      <td>0</td>\n",
              "      <td>0</td>\n",
              "      <td>1</td>\n",
              "      <td>0</td>\n",
              "      <td>0</td>\n",
              "    </tr>\n",
              "  </tbody>\n",
              "</table>\n",
              "<p>976 rows × 105 columns</p>\n",
              "</div>"
            ],
            "text/plain": [
              "         class  stalk_height  cap_diameter  cap_shape_conical  \\\n",
              "0    poisonous      1.553976     -1.080201                  0   \n",
              "1       edible     -1.235285      0.926435                  0   \n",
              "2    poisonous      0.143086     -0.772204                  0   \n",
              "3    poisonous     -0.891126      1.193403                  0   \n",
              "4    poisonous      1.489498     -0.007635                  0   \n",
              "..         ...           ...           ...                ...   \n",
              "971     edible      1.214741     -0.373102                  1   \n",
              "972  poisonous     -1.289624      0.897769                  0   \n",
              "973     edible      1.245391      0.449841                  0   \n",
              "974  poisonous     -0.546816      0.129361                  0   \n",
              "975  poisonous      1.227115      1.211152                  0   \n",
              "\n",
              "     cap_shape_convex  cap_shape_flat  cap_shape_sunken  cap_surface_grooves  \\\n",
              "0                   0               0                 1                    0   \n",
              "1                   0               0                 1                    0   \n",
              "2                   0               1                 0                    1   \n",
              "3                   0               0                 0                    0   \n",
              "4                   0               1                 0                    0   \n",
              "..                ...             ...               ...                  ...   \n",
              "971                 0               0                 0                    1   \n",
              "972                 0               0                 0                    1   \n",
              "973                 0               0                 1                    0   \n",
              "974                 0               0                 1                    0   \n",
              "975                 1               0                 0                    0   \n",
              "\n",
              "     cap_surface_scaly  cap_surface_smooth  ...  population_numerous  \\\n",
              "0                    1                   0  ...                    0   \n",
              "1                    0                   0  ...                    1   \n",
              "2                    0                   0  ...                    0   \n",
              "3                    1                   0  ...                    0   \n",
              "4                    0                   1  ...                    0   \n",
              "..                 ...                 ...  ...                  ...   \n",
              "971                  0                   0  ...                    1   \n",
              "972                  0                   0  ...                    1   \n",
              "973                  0                   1  ...                    0   \n",
              "974                  1                   0  ...                    1   \n",
              "975                  1                   0  ...                    1   \n",
              "\n",
              "     population_scattered  population_several  population_solitary  \\\n",
              "0                       0                   0                    0   \n",
              "1                       0                   0                    0   \n",
              "2                       0                   0                    0   \n",
              "3                       0                   0                    0   \n",
              "4                       0                   0                    0   \n",
              "..                    ...                 ...                  ...   \n",
              "971                     0                   0                    0   \n",
              "972                     0                   0                    0   \n",
              "973                     0                   0                    0   \n",
              "974                     0                   0                    0   \n",
              "975                     0                   0                    0   \n",
              "\n",
              "     habitat_leaves  habitat_meadows  habitat_paths  habitat_urban  \\\n",
              "0                 0                0              0              0   \n",
              "1                 0                0              0              0   \n",
              "2                 0                0              0              0   \n",
              "3                 0                0              0              0   \n",
              "4                 0                0              0              1   \n",
              "..              ...              ...            ...            ...   \n",
              "971               0                0              1              0   \n",
              "972               0                0              0              0   \n",
              "973               0                0              0              0   \n",
              "974               0                0              0              0   \n",
              "975               0                0              0              1   \n",
              "\n",
              "     habitat_waste  habitat_woods  \n",
              "0                1              0  \n",
              "1                1              0  \n",
              "2                1              0  \n",
              "3                0              0  \n",
              "4                0              0  \n",
              "..             ...            ...  \n",
              "971              0              0  \n",
              "972              0              0  \n",
              "973              0              0  \n",
              "974              1              0  \n",
              "975              0              0  \n",
              "\n",
              "[976 rows x 105 columns]"
            ]
          },
          "execution_count": 43,
          "metadata": {},
          "output_type": "execute_result"
        }
      ],
      "source": [
        "data"
      ]
    },
    {
      "cell_type": "code",
      "execution_count": null,
      "id": "7cfeeb99",
      "metadata": {
        "id": "7cfeeb99",
        "outputId": "daedfeea-0db6-4d10-e234-03d4cc12b58b"
      },
      "outputs": [
        {
          "data": {
            "text/plain": [
              "poisonous    618\n",
              "edible       358\n",
              "Name: class, dtype: int64"
            ]
          },
          "execution_count": 44,
          "metadata": {},
          "output_type": "execute_result"
        }
      ],
      "source": [
        "data['class'].value_counts()"
      ]
    },
    {
      "cell_type": "raw",
      "id": "5001a2ca",
      "metadata": {
        "id": "5001a2ca"
      },
      "source": [
        "There is class imbalance in 'class' column."
      ]
    },
    {
      "cell_type": "code",
      "execution_count": null,
      "id": "783eafcb",
      "metadata": {
        "id": "783eafcb"
      },
      "outputs": [],
      "source": [
        "x = data.drop('class', axis = 1)\n",
        "y = data[['class']]"
      ]
    },
    {
      "cell_type": "code",
      "execution_count": null,
      "id": "73005d79",
      "metadata": {
        "id": "73005d79"
      },
      "outputs": [],
      "source": [
        "x_train, x_test, y_train, y_test = train_test_split(x, y, test_size = 0.2, shuffle = True, random_state = 42)"
      ]
    },
    {
      "cell_type": "code",
      "execution_count": null,
      "id": "1fb929b8",
      "metadata": {
        "id": "1fb929b8"
      },
      "outputs": [],
      "source": [
        "svm = SVC(kernel='linear', C = 0.2)"
      ]
    },
    {
      "cell_type": "code",
      "execution_count": null,
      "id": "1776490d",
      "metadata": {
        "id": "1776490d"
      },
      "outputs": [],
      "source": [
        "def train_model(x_train, y_train, x_test, y_test, model):\n",
        "    model.fit(x_train, y_train)\n",
        "    print(f'Training Acccuracy: {model.score(x_train, y_train)}')\n",
        "    print(f'Training Acccuracy: {model.score(x_test, y_test)}\\n')\n",
        "    y_pred = model.predict(x_test)\n",
        "    print(classification_report(y_test, y_pred))\n",
        "    return model"
      ]
    },
    {
      "cell_type": "code",
      "execution_count": null,
      "id": "eb1fcae8",
      "metadata": {
        "id": "eb1fcae8",
        "outputId": "d668aab7-a3de-4c64-ce76-0c0253b74d73"
      },
      "outputs": [
        {
          "name": "stdout",
          "output_type": "stream",
          "text": [
            "Training Acccuracy: 0.6448717948717949\n",
            "Training Acccuracy: 0.6275510204081632\n",
            "\n",
            "              precision    recall  f1-score   support\n",
            "\n",
            "      edible       0.43      0.04      0.08        72\n",
            "   poisonous       0.63      0.97      0.77       124\n",
            "\n",
            "    accuracy                           0.63       196\n",
            "   macro avg       0.53      0.50      0.42       196\n",
            "weighted avg       0.56      0.63      0.51       196\n",
            "\n"
          ]
        }
      ],
      "source": [
        "model = train_model(x_train , y_train, x_test, y_test, svm)"
      ]
    },
    {
      "cell_type": "code",
      "execution_count": null,
      "id": "081b31c9",
      "metadata": {
        "id": "081b31c9"
      },
      "outputs": [],
      "source": [
        "svm1 = SVC(kernel='rbf', C = 0.1)"
      ]
    },
    {
      "cell_type": "code",
      "execution_count": null,
      "id": "a4cac900",
      "metadata": {
        "id": "a4cac900",
        "outputId": "08e77771-e4e6-4530-fa44-163d5de3a225"
      },
      "outputs": [
        {
          "name": "stdout",
          "output_type": "stream",
          "text": [
            "Training Acccuracy: 0.6333333333333333\n",
            "Training Acccuracy: 0.6326530612244898\n",
            "\n",
            "              precision    recall  f1-score   support\n",
            "\n",
            "      edible       0.00      0.00      0.00        72\n",
            "   poisonous       0.63      1.00      0.78       124\n",
            "\n",
            "    accuracy                           0.63       196\n",
            "   macro avg       0.32      0.50      0.39       196\n",
            "weighted avg       0.40      0.63      0.49       196\n",
            "\n"
          ]
        }
      ],
      "source": [
        "model1 = train_model(x_train , y_train, x_test, y_test, svm1)"
      ]
    },
    {
      "cell_type": "code",
      "execution_count": null,
      "id": "b7a2a4b2",
      "metadata": {
        "id": "b7a2a4b2"
      },
      "outputs": [],
      "source": [
        "svm2 = SVC(kernel='poly', C = 0.1)"
      ]
    },
    {
      "cell_type": "code",
      "execution_count": null,
      "id": "ce520c9a",
      "metadata": {
        "id": "ce520c9a",
        "outputId": "ac2f26f8-3e63-4691-dadd-5264e8a3dcb0"
      },
      "outputs": [
        {
          "name": "stdout",
          "output_type": "stream",
          "text": [
            "Training Acccuracy: 0.6333333333333333\n",
            "Training Acccuracy: 0.6326530612244898\n",
            "\n",
            "              precision    recall  f1-score   support\n",
            "\n",
            "      edible       0.00      0.00      0.00        72\n",
            "   poisonous       0.63      1.00      0.78       124\n",
            "\n",
            "    accuracy                           0.63       196\n",
            "   macro avg       0.32      0.50      0.39       196\n",
            "weighted avg       0.40      0.63      0.49       196\n",
            "\n"
          ]
        }
      ],
      "source": [
        "model2 = train_model(x_train , y_train, x_test, y_test, svm2)"
      ]
    },
    {
      "cell_type": "raw",
      "id": "a5788e2b",
      "metadata": {
        "id": "a5788e2b"
      },
      "source": [
        "All different kernals have almost same accuracy."
      ]
    },
    {
      "cell_type": "code",
      "execution_count": null,
      "id": "180ee858",
      "metadata": {
        "id": "180ee858"
      },
      "outputs": [],
      "source": [
        "params = {\n",
        "    'kernel' : ['poly', 'rbf', 'linear'],\n",
        "    'C' : [0.1, 0.6, 1]\n",
        "}"
      ]
    },
    {
      "cell_type": "code",
      "execution_count": null,
      "id": "0931e876",
      "metadata": {
        "id": "0931e876",
        "outputId": "e10be75e-47b8-406d-ea9e-c32794a27768"
      },
      "outputs": [
        {
          "name": "stdout",
          "output_type": "stream",
          "text": [
            "Best Parameters: {'C': 0.6, 'kernel': 'poly'}\n",
            "Best Score: 0.641025641025641\n"
          ]
        }
      ],
      "source": [
        "grid = GridSearchCV(SVC(), params, scoring='accuracy')\n",
        "grid.fit(x_train, y_train)\n",
        "\n",
        "print(\"Best Parameters:\", grid.best_params_)\n",
        "print(\"Best Score:\", grid.best_score_)"
      ]
    }
  ],
  "metadata": {
    "kernelspec": {
      "display_name": "Python 3 (ipykernel)",
      "language": "python",
      "name": "python3"
    },
    "language_info": {
      "codemirror_mode": {
        "name": "ipython",
        "version": 3
      },
      "file_extension": ".py",
      "mimetype": "text/x-python",
      "name": "python",
      "nbconvert_exporter": "python",
      "pygments_lexer": "ipython3",
      "version": "3.9.13"
    },
    "colab": {
      "provenance": []
    }
  },
  "nbformat": 4,
  "nbformat_minor": 5
}